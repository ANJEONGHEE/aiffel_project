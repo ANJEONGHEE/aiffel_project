{
 "cells": [
  {
   "cell_type": "code",
   "execution_count": 1,
   "id": "f19b712e",
   "metadata": {},
   "outputs": [
    {
     "name": "stdout",
     "output_type": "stream",
     "text": [
      "ln: failed to create symbolic link '/aiffel/aiffel/sentiment_classification/data/ratings_test.txt': File exists\r\n",
      "ln: failed to create symbolic link '/aiffel/aiffel/sentiment_classification/data/ratings_train.txt': File exists\r\n"
     ]
    }
   ],
   "source": [
    "# 6-11 프로젝트\n",
    "!ln -s ~/data/*.txt ~/aiffel/sentiment_classification/data"
   ]
  },
  {
   "cell_type": "code",
   "execution_count": 8,
   "id": "0264bd76",
   "metadata": {},
   "outputs": [
    {
     "data": {
      "text/html": [
       "<div>\n",
       "<style scoped>\n",
       "    .dataframe tbody tr th:only-of-type {\n",
       "        vertical-align: middle;\n",
       "    }\n",
       "\n",
       "    .dataframe tbody tr th {\n",
       "        vertical-align: top;\n",
       "    }\n",
       "\n",
       "    .dataframe thead th {\n",
       "        text-align: right;\n",
       "    }\n",
       "</style>\n",
       "<table border=\"1\" class=\"dataframe\">\n",
       "  <thead>\n",
       "    <tr style=\"text-align: right;\">\n",
       "      <th></th>\n",
       "      <th>id</th>\n",
       "      <th>document</th>\n",
       "      <th>label</th>\n",
       "    </tr>\n",
       "  </thead>\n",
       "  <tbody>\n",
       "    <tr>\n",
       "      <th>0</th>\n",
       "      <td>9976970</td>\n",
       "      <td>아 더빙.. 진짜 짜증나네요 목소리</td>\n",
       "      <td>0</td>\n",
       "    </tr>\n",
       "    <tr>\n",
       "      <th>1</th>\n",
       "      <td>3819312</td>\n",
       "      <td>흠...포스터보고 초딩영화줄....오버연기조차 가볍지 않구나</td>\n",
       "      <td>1</td>\n",
       "    </tr>\n",
       "    <tr>\n",
       "      <th>2</th>\n",
       "      <td>10265843</td>\n",
       "      <td>너무재밓었다그래서보는것을추천한다</td>\n",
       "      <td>0</td>\n",
       "    </tr>\n",
       "    <tr>\n",
       "      <th>3</th>\n",
       "      <td>9045019</td>\n",
       "      <td>교도소 이야기구먼 ..솔직히 재미는 없다..평점 조정</td>\n",
       "      <td>0</td>\n",
       "    </tr>\n",
       "    <tr>\n",
       "      <th>4</th>\n",
       "      <td>6483659</td>\n",
       "      <td>사이몬페그의 익살스런 연기가 돋보였던 영화!스파이더맨에서 늙어보이기만 했던 커스틴 ...</td>\n",
       "      <td>1</td>\n",
       "    </tr>\n",
       "  </tbody>\n",
       "</table>\n",
       "</div>"
      ],
      "text/plain": [
       "         id                                           document  label\n",
       "0   9976970                                아 더빙.. 진짜 짜증나네요 목소리      0\n",
       "1   3819312                  흠...포스터보고 초딩영화줄....오버연기조차 가볍지 않구나      1\n",
       "2  10265843                                  너무재밓었다그래서보는것을추천한다      0\n",
       "3   9045019                      교도소 이야기구먼 ..솔직히 재미는 없다..평점 조정      0\n",
       "4   6483659  사이몬페그의 익살스런 연기가 돋보였던 영화!스파이더맨에서 늙어보이기만 했던 커스틴 ...      1"
      ]
     },
     "execution_count": 8,
     "metadata": {},
     "output_type": "execute_result"
    }
   ],
   "source": [
    "#1. 데이터 준비와 확인\n",
    "\n",
    "import pandas as pd\n",
    "\n",
    "import matplotlib.pyplot as plt\n",
    "from konlpy.tag import Mecab\n",
    "from tensorflow import keras\n",
    "from tensorflow.keras.preprocessing.text import Tokenizer\n",
    "from tensorflow.keras.preprocessing.sequence import pad_sequences\n",
    "import tensorflow as tf\n",
    "import os\n",
    "\n",
    "# 데이터를 읽어봅시다. \n",
    "train_data = pd.read_table('~/aiffel/sentiment_classification/data/ratings_train.txt')\n",
    "test_data = pd.read_table('~/aiffel/sentiment_classification/data/ratings_test.txt')\n",
    "\n",
    "train_data.head()"
   ]
  },
  {
   "cell_type": "code",
   "execution_count": 9,
   "id": "9ea6c9b2",
   "metadata": {},
   "outputs": [
    {
     "ename": "NameError",
     "evalue": "name 'X_train' is not defined",
     "output_type": "error",
     "traceback": [
      "\u001b[0;31m---------------------------------------------------------------------------\u001b[0m",
      "\u001b[0;31mNameError\u001b[0m                                 Traceback (most recent call last)",
      "\u001b[0;32m/tmp/ipykernel_13/1146942626.py\u001b[0m in \u001b[0;36m<module>\u001b[0;34m\u001b[0m\n\u001b[1;32m      1\u001b[0m \u001b[0;31m# 데이터셋 내 문장 길이 분포\u001b[0m\u001b[0;34m\u001b[0m\u001b[0;34m\u001b[0m\u001b[0m\n\u001b[1;32m      2\u001b[0m \u001b[0;34m\u001b[0m\u001b[0m\n\u001b[0;32m----> 3\u001b[0;31m \u001b[0mprint\u001b[0m\u001b[0;34m(\u001b[0m\u001b[0mX_train\u001b[0m\u001b[0;34m[\u001b[0m\u001b[0;36m0\u001b[0m\u001b[0;34m]\u001b[0m\u001b[0;34m)\u001b[0m  \u001b[0;31m# 1번째 리뷰데이터\u001b[0m\u001b[0;34m\u001b[0m\u001b[0;34m\u001b[0m\u001b[0m\n\u001b[0m\u001b[1;32m      4\u001b[0m \u001b[0mprint\u001b[0m\u001b[0;34m(\u001b[0m\u001b[0;34m'라벨: '\u001b[0m\u001b[0;34m,\u001b[0m \u001b[0my_train\u001b[0m\u001b[0;34m[\u001b[0m\u001b[0;36m0\u001b[0m\u001b[0;34m]\u001b[0m\u001b[0;34m)\u001b[0m  \u001b[0;31m# 1번째 리뷰데이터의 라벨\u001b[0m\u001b[0;34m\u001b[0m\u001b[0;34m\u001b[0m\u001b[0m\n\u001b[1;32m      5\u001b[0m \u001b[0mprint\u001b[0m\u001b[0;34m(\u001b[0m\u001b[0;34m'1번째 리뷰 문장 길이: '\u001b[0m\u001b[0;34m,\u001b[0m \u001b[0mlen\u001b[0m\u001b[0;34m(\u001b[0m\u001b[0mX_train\u001b[0m\u001b[0;34m[\u001b[0m\u001b[0;36m0\u001b[0m\u001b[0;34m]\u001b[0m\u001b[0;34m)\u001b[0m\u001b[0;34m)\u001b[0m\u001b[0;34m\u001b[0m\u001b[0;34m\u001b[0m\u001b[0m\n",
      "\u001b[0;31mNameError\u001b[0m: name 'X_train' is not defined"
     ]
    }
   ],
   "source": [
    "# 데이터셋 내 문장 길이 분포\n",
    "\n",
    "print(X_train[0])  # 1번째 리뷰데이터\n",
    "print('라벨: ', y_train[0])  # 1번째 리뷰데이터의 라벨\n",
    "print('1번째 리뷰 문장 길이: ', len(X_train[0]))\n",
    "print('2번째 리뷰 문장 길이: ', len(X_train[1]))"
   ]
  },
  {
   "cell_type": "code",
   "execution_count": null,
   "id": "49ef9e4d",
   "metadata": {},
   "outputs": [],
   "source": [
    "# 1. 데이터의 중복 제거 :  train_data.drop_duplicates(subset=['document'], inplace=True)\n",
    "# 2. Nan 결측치 제거 :  train_data = train_data.dropna(how = 'any') \n",
    "# 3. 한국어 토크나이저로 토큰화 : from konlpy.tag import Mecab,  temp_X = tokenizer.morphs(sentence) \n",
    "# 4. 불용어(Stopwords) 제거 :  temp_X = [word for word in temp_X if not word in stopwords]\n",
    "# 5. 사전word_to_index 구성 \n",
    "# 6. 텍스트 스트링을 사전 인덱스 스트링으로 변환 \n",
    "# 7. X_train, y_train, X_test, y_test, word_to_index 리턴"
   ]
  },
  {
   "cell_type": "code",
   "execution_count": 10,
   "id": "c7b492da",
   "metadata": {},
   "outputs": [],
   "source": [
    "#2. 데이터로더 구성\n",
    "\n",
    "from konlpy.tag import Mecab\n",
    "import numpy as np\n",
    "from collections import Counter\n",
    "\n",
    "tokenizer = Mecab()\n",
    "stopwords = ['의','가','이','은','들','는','좀','잘','걍','과','도','를','으로','자','에','와','한','하다']\n",
    "\n",
    "def load_data(train_data, test_data, num_words=10000):\n",
    "    train_data.drop_duplicates(subset=['document'], inplace=True)\n",
    "    train_data = train_data.dropna(how = 'any') \n",
    "    test_data.drop_duplicates(subset=['document'], inplace=True)\n",
    "    test_data = test_data.dropna(how = 'any') \n",
    "    \n",
    "    X_train = []\n",
    "    for sentence in train_data['document']:\n",
    "        temp_X = tokenizer.morphs(sentence) # 토큰화\n",
    "        temp_X = [word for word in temp_X if not word in stopwords] # 불용어 제거\n",
    "        X_train.append(temp_X)\n",
    "\n",
    "    X_test = []\n",
    "    for sentence in test_data['document']:\n",
    "        temp_X = tokenizer.morphs(sentence) # 토큰화\n",
    "        temp_X = [word for word in temp_X if not word in stopwords] # 불용어 제거\n",
    "        X_test.append(temp_X)\n",
    "    \n",
    "    words = np.concatenate(X_train).tolist()   # numpy배열 하나로 합하기\n",
    "    counter = Counter(words)\n",
    "    counter = counter.most_common(10000-4) # 데이터 개수가 많은 순서로 정렬된 배열 리턴, k=4로 4개까지 리턴하는 데이터를 얻음\n",
    "    vocab = ['', '', '', ''] + [key for key, _ in counter]\n",
    "    word_to_index = {word:index for index, word in enumerate(vocab)} # 사전 구성\n",
    "        \n",
    "    def wordlist_to_indexlist(wordlist):\n",
    "        return [word_to_index[word] if word in word_to_index else word_to_index[''] for word in wordlist]\n",
    "        \n",
    "    X_train = list(map(wordlist_to_indexlist, X_train))\n",
    "    X_test = list(map(wordlist_to_indexlist, X_test))\n",
    "        \n",
    "    return X_train, np.array(list(train_data['label'])), X_test, np.array(list(test_data['label'])), word_to_index\n",
    "    \n",
    "X_train, y_train, X_test, y_test, word_to_index = load_data(train_data, test_data) "
   ]
  },
  {
   "cell_type": "code",
   "execution_count": 11,
   "id": "9532ecf2",
   "metadata": {},
   "outputs": [],
   "source": [
    "index_to_word = {index:word for word, index in word_to_index.items()}"
   ]
  },
  {
   "cell_type": "code",
   "execution_count": 12,
   "id": "c3e64647",
   "metadata": {},
   "outputs": [
    {
     "name": "stdout",
     "output_type": "stream",
     "text": [
      "<PAD>\n",
      "<BOS>\n",
      "<UNK>\n",
      "<UNUSED>\n"
     ]
    }
   ],
   "source": [
    "# 처음 몇 개 인덱스는 사전에 정의되어 있습니다.\n",
    "word_to_index[\"<PAD>\"] = 0\n",
    "word_to_index[\"<BOS>\"] = 1\n",
    "word_to_index[\"<UNK>\"] = 2  # unknown\n",
    "word_to_index[\"<UNUSED>\"] = 3\n",
    "\n",
    "index_to_word[0] = \"<PAD>\"\n",
    "index_to_word[1] = \"<BOS>\"\n",
    "index_to_word[2] = \"<UNK>\"\n",
    "index_to_word[3] = \"<UNUSED>\"\n",
    "\n",
    "index_to_word = {index:word for word, index in word_to_index.items()}\n",
    "\n",
    "print(index_to_word[0])     # '<PAD>'  출력\n",
    "print(index_to_word[1])    #'<BOS>' 출력\n",
    "print(index_to_word[2])    #'<UNK>' 출력\n",
    "print(index_to_word[3])    #'<UNUSED>' 출력\n"
   ]
  },
  {
   "cell_type": "code",
   "execution_count": 13,
   "id": "cb28503c",
   "metadata": {},
   "outputs": [],
   "source": [
    "# 문장 1개를 활용할 딕셔너리와 함께 주면, 단어 인덱스 리스트 벡터로 변환해 주는 함수입니다. \n",
    "# 단, 모든 문장은 <BOS>로 시작하는 것으로 합니다. \n",
    "def get_encoded_sentence(sentence, word_to_index):\n",
    "    return [word_to_index['<BOS>']]+[word_to_index[word] if word in word_to_index else word_to_index['<UNK>'] for word in sentence.split()]\n",
    "\n",
    "# 여러 개의 문장 리스트를 한꺼번에 단어 인덱스 리스트 벡터로 encode해 주는 함수입니다. \n",
    "def get_encoded_sentences(sentences, word_to_index):\n",
    "    return [get_encoded_sentence(sentence, word_to_index) for sentence in sentences]\n",
    "\n",
    "# 숫자 벡터로 encode된 문장을 원래대로 decode하는 함수입니다. \n",
    "def get_decoded_sentence(encoded_sentence, index_to_word):\n",
    "    return ' '.join(index_to_word[index] if index in index_to_word else '<UNK>' for index in encoded_sentence[1:])  #[1:]를 통해 <BOS>를 제외\n",
    "\n",
    "# 여러 개의 숫자 벡터로 encode된 문장을 한꺼번에 원래대로 decode하는 함수입니다. \n",
    "def get_decoded_sentences(encoded_sentences, index_to_word):\n",
    "    return [get_decoded_sentence(encoded_sentence, index_to_word) for encoded_sentence in encoded_sentences]"
   ]
  },
  {
   "cell_type": "code",
   "execution_count": 14,
   "id": "0eb615f2",
   "metadata": {},
   "outputs": [
    {
     "name": "stdout",
     "output_type": "stream",
     "text": [
      "['더 빙 . . 진짜 짜증 나 네요 목소리', '. .. 포스터 보고 초딩 영화 줄 . ... 오버 연기 조차 가볍 지 않 구나', '재 <UNUSED>', '이야기 구먼 . . 솔직히 재미 없 다 . . 평점 조정', '익살 스런 연기 돋보였 던 영화 ! 스파이더맨 에서 늙 어 보이 기 만 했 던 <UNUSED> <UNUSED> 너무나 이뻐 보였 다']\n"
     ]
    }
   ],
   "source": [
    "decoded_sentences = get_decoded_sentences(X_train, index_to_word)\n",
    "print(decoded_sentences[0:5])"
   ]
  },
  {
   "cell_type": "code",
   "execution_count": 15,
   "id": "7365b62f",
   "metadata": {},
   "outputs": [
    {
     "name": "stdout",
     "output_type": "stream",
     "text": [
      "더 빙 . . 진짜 짜증 나 네요 목소리\n",
      "라벨:  0\n"
     ]
    }
   ],
   "source": [
    "print(get_decoded_sentence(X_train[0], index_to_word))\n",
    "print('라벨: ', y_train[0])"
   ]
  },
  {
   "cell_type": "code",
   "execution_count": 16,
   "id": "a0b34830",
   "metadata": {},
   "outputs": [],
   "source": [
    "# 모델 구성을 위한 데이터 분석 및 가공\n",
    "# 3-1 데이터셋 내 문장 길이 분포\n",
    "# 3-2 적절한 최대 문장 길이 지정\n",
    "# 3-3 keras.preprocessing.sequence.pad_sequences 을 활용한 패딩 추가"
   ]
  },
  {
   "cell_type": "code",
   "execution_count": 17,
   "id": "da2e12a8",
   "metadata": {},
   "outputs": [
    {
     "name": "stdout",
     "output_type": "stream",
     "text": [
      "문장길이 평균 :  15.96940191154864\n",
      "문장길이 최대 :  116\n",
      "문장길이 표준편차 :  12.843571191092\n",
      "pad_sequences maxlen :  41\n",
      "전체 문장의 0.9342988343341575%가 maxlen 설정값 이내에 포함됩니다. \n"
     ]
    }
   ],
   "source": [
    "# pad_sequences를 통해 데이터셋 상의 문장의 길이를 통일하기\n",
    "\n",
    "total_data_text = list(X_train) + list(X_test)\n",
    "# 텍스트데이터 문장길이의 리스트를 생성한 후\n",
    "num_tokens = [len(tokens) for tokens in total_data_text]\n",
    "num_tokens = np.array(num_tokens)\n",
    "\n",
    "# 문장길이의 평균값, 최대값, 표준편차를 계산해 본다. \n",
    "print('문장길이 평균 : ', np.mean(num_tokens))\n",
    "print('문장길이 최대 : ', np.max(num_tokens))\n",
    "print('문장길이 표준편차 : ', np.std(num_tokens))\n",
    "\n",
    "# 예를들어, 최대 길이를 (평균 + 2*표준편차)로 한다면,  \n",
    "max_tokens = np.mean(num_tokens) + 2 * np.std(num_tokens)\n",
    "maxlen = int(max_tokens)\n",
    "print('pad_sequences maxlen : ', maxlen)\n",
    "print('전체 문장의 {}%가 maxlen 설정값 이내에 포함됩니다. '.format(np.sum(num_tokens < max_tokens) / len(num_tokens)))"
   ]
  },
  {
   "cell_type": "code",
   "execution_count": 18,
   "id": "6df319c4",
   "metadata": {},
   "outputs": [],
   "source": [
    "# keras.preprocessing.sequence.pad_sequences 을 활용한 패딩 추가하기 : 문장에 앞에 0을 채워 넣는것이 더 좋은 분석이 된다고 해서 앞에 0으로~"
   ]
  },
  {
   "cell_type": "code",
   "execution_count": 19,
   "id": "fed6cf66",
   "metadata": {},
   "outputs": [
    {
     "name": "stdout",
     "output_type": "stream",
     "text": [
      "(146182, 41)\n"
     ]
    },
    {
     "data": {
      "text/plain": [
       "array([  0,   0,   0,   0,   0,   0,   0,   0,   0,   0,   0,   0,   0,\n",
       "         0,   0,   0,   0,   0,   0,   0,   0,   0,   0,   0,   0,   0,\n",
       "         0,   0,   0,   0,   0,  32,  74, 919,   4,   4,  39, 228,  20,\n",
       "        33, 748], dtype=int32)"
      ]
     },
     "execution_count": 19,
     "metadata": {},
     "output_type": "execute_result"
    }
   ],
   "source": [
    "import tensorflow as tf\n",
    "\n",
    "X_train = tf.keras.preprocessing.sequence.pad_sequences(X_train,\n",
    "                                                        value=word_to_index[\"<PAD>\"],\n",
    "                                                        padding='pre', # 혹은 'post'\n",
    "                                                        maxlen=maxlen)\n",
    "\n",
    "X_test = tf.keras.preprocessing.sequence.pad_sequences(X_test,\n",
    "                                                       value=word_to_index[\"<PAD>\"],\n",
    "                                                       padding='pre', # 혹은 'post'\n",
    "                                                       maxlen=maxlen)\n",
    "\n",
    "print(X_train.shape)     \n",
    "X_train[0]"
   ]
  },
  {
   "cell_type": "code",
   "execution_count": 20,
   "id": "56a8a758",
   "metadata": {},
   "outputs": [],
   "source": [
    "# model 훈련 전에, 훈련용 데이터셋 146,182건 중 20%를 분리하여 검증셋(validation set)으로 사용\n",
    "\n",
    "from sklearn.model_selection import train_test_split\n",
    "X_train, X_val, y_train, y_val = train_test_split(X_train, \n",
    "                                                          y_train,\n",
    "                                                          test_size=0.2,\n",
    "                                                          shuffle=True, \n",
    "                                                          random_state=34)"
   ]
  },
  {
   "cell_type": "code",
   "execution_count": 21,
   "id": "5bf981f0",
   "metadata": {},
   "outputs": [
    {
     "name": "stdout",
     "output_type": "stream",
     "text": [
      "Model: \"sequential\"\n",
      "_________________________________________________________________\n",
      "Layer (type)                 Output Shape              Param #   \n",
      "=================================================================\n",
      "embedding (Embedding)        (None, None, 41)          5993462   \n",
      "_________________________________________________________________\n",
      "lstm (LSTM)                  (None, 8)                 1600      \n",
      "_________________________________________________________________\n",
      "dense (Dense)                (None, 2)                 18        \n",
      "_________________________________________________________________\n",
      "dense_1 (Dense)              (None, 1)                 3         \n",
      "=================================================================\n",
      "Total params: 5,995,083\n",
      "Trainable params: 5,995,083\n",
      "Non-trainable params: 0\n",
      "_________________________________________________________________\n"
     ]
    }
   ],
   "source": [
    "# model 학습1 - RNN 이용하여 분석하기\n",
    "\n",
    "vocab_size = 146182  # 어휘 사전의 크기입니다(74844개의 단어)\n",
    "word_vector_dim = 41  # 워드 벡터의 차원 수 (변경 가능한 하이퍼파라미터)\n",
    "\n",
    "# model 설계 - 딥러닝 모델 코드를 직접 작성해 주세요.\n",
    "model = keras.Sequential()\n",
    "model.add(keras.layers.Embedding(vocab_size, word_vector_dim, input_shape=(None,)))\n",
    "model.add(keras.layers.LSTM(8))   # 가장 널리 쓰이는 RNN인 LSTM 레이어를 사용. 이때 LSTM state 벡터의 차원수는 2로 함\n",
    "model.add(keras.layers.Dense(2, activation='relu'))\n",
    "model.add(keras.layers.Dense(1, activation='sigmoid'))  # 최종 출력은 긍정/부정을 나타내는 1dim 입니다.\n",
    "\n",
    "model.summary()\n",
    "\n",
    "# 오류 발생으로 진행이 어려움, GPU의 용량 부족이라는데... OOM을 방지하는 가장 좋은 방법은 1번인데 진행이 안됨 =>껐다가 다시 실행하니 해결\n",
    "\n",
    "# 1. Batch Size를 줄인다.\n",
    "\n",
    "# 2. 이미지 크기를 줄인다.\n",
    "\n",
    "#3. GPU의 Memory를 늘린다."
   ]
  },
  {
   "cell_type": "code",
   "execution_count": 22,
   "id": "73fb411a",
   "metadata": {},
   "outputs": [],
   "source": [
    "model.compile(optimizer='adam',\n",
    "              loss='binary_crossentropy',\n",
    "              metrics=['accuracy'])\n",
    "              \n",
    "from keras.callbacks import EarlyStopping   # earlystopping을 이용해서 과적합을 방지\n",
    "es=EarlyStopping(monitor='val_loss',mode='min',verbose=1,patience=10)\n"
   ]
  },
  {
   "cell_type": "code",
   "execution_count": 23,
   "id": "71c34825",
   "metadata": {},
   "outputs": [
    {
     "name": "stdout",
     "output_type": "stream",
     "text": [
      "Epoch 1/20\n",
      "229/229 [==============================] - 5s 10ms/step - loss: 0.4583 - accuracy: 0.7971 - val_loss: 0.3623 - val_accuracy: 0.8441\n",
      "Epoch 2/20\n",
      "229/229 [==============================] - 2s 8ms/step - loss: 0.3323 - accuracy: 0.8603 - val_loss: 0.3521 - val_accuracy: 0.8468\n",
      "Epoch 3/20\n",
      "229/229 [==============================] - 2s 8ms/step - loss: 0.3115 - accuracy: 0.8693 - val_loss: 0.3513 - val_accuracy: 0.8469\n",
      "Epoch 4/20\n",
      "229/229 [==============================] - 2s 8ms/step - loss: 0.2954 - accuracy: 0.8780 - val_loss: 0.3505 - val_accuracy: 0.8480\n",
      "Epoch 5/20\n",
      "229/229 [==============================] - 2s 8ms/step - loss: 0.2816 - accuracy: 0.8840 - val_loss: 0.3536 - val_accuracy: 0.8475\n",
      "Epoch 6/20\n",
      "229/229 [==============================] - 2s 8ms/step - loss: 0.2684 - accuracy: 0.8912 - val_loss: 0.3579 - val_accuracy: 0.8492\n",
      "Epoch 7/20\n",
      "229/229 [==============================] - 2s 8ms/step - loss: 0.2563 - accuracy: 0.8966 - val_loss: 0.3623 - val_accuracy: 0.8477\n",
      "Epoch 8/20\n",
      "229/229 [==============================] - 2s 8ms/step - loss: 0.2440 - accuracy: 0.9032 - val_loss: 0.3684 - val_accuracy: 0.8484\n",
      "Epoch 9/20\n",
      "229/229 [==============================] - 2s 8ms/step - loss: 0.2320 - accuracy: 0.9082 - val_loss: 0.3739 - val_accuracy: 0.8495\n",
      "Epoch 10/20\n",
      "229/229 [==============================] - 2s 8ms/step - loss: 0.2205 - accuracy: 0.9137 - val_loss: 0.3823 - val_accuracy: 0.8492\n",
      "Epoch 11/20\n",
      "229/229 [==============================] - 2s 8ms/step - loss: 0.2091 - accuracy: 0.9193 - val_loss: 0.4001 - val_accuracy: 0.8469\n",
      "Epoch 12/20\n",
      "229/229 [==============================] - 2s 8ms/step - loss: 0.1985 - accuracy: 0.9247 - val_loss: 0.4134 - val_accuracy: 0.8470\n",
      "Epoch 13/20\n",
      "229/229 [==============================] - 2s 8ms/step - loss: 0.1881 - accuracy: 0.9293 - val_loss: 0.4235 - val_accuracy: 0.8456\n",
      "Epoch 14/20\n",
      "229/229 [==============================] - 2s 8ms/step - loss: 0.1788 - accuracy: 0.9333 - val_loss: 0.4330 - val_accuracy: 0.8434\n",
      "Epoch 00014: early stopping\n"
     ]
    }
   ],
   "source": [
    "history = model.fit(X_train,\n",
    "                    y_train,\n",
    "                    epochs=20,\n",
    "                    batch_size=512,callbacks=[es],\n",
    "                    validation_data=(X_val, y_val),\n",
    "                    verbose=1)\n",
    "#  loss: 0.1788 - accuracy: 0.9333 - val_loss: 0.4330 - val_accuracy: 0.8434  Epoch 00014: early stopping"
   ]
  },
  {
   "cell_type": "code",
   "execution_count": 24,
   "id": "782f7dd0",
   "metadata": {},
   "outputs": [
    {
     "name": "stdout",
     "output_type": "stream",
     "text": [
      "1537/1537 - 3s - loss: 0.4342 - accuracy: 0.8402\n",
      "[0.43419715762138367, 0.8402262330055237]\n"
     ]
    }
   ],
   "source": [
    "# 학습이 끝난 모델을 테스트셋으로 평가\n",
    "results = model.evaluate(X_test,  y_test, verbose=2)\n",
    "\n",
    "print(results)"
   ]
  },
  {
   "cell_type": "code",
   "execution_count": 25,
   "id": "45ca71df",
   "metadata": {},
   "outputs": [
    {
     "name": "stdout",
     "output_type": "stream",
     "text": [
      "dict_keys(['loss', 'accuracy', 'val_loss', 'val_accuracy'])\n"
     ]
    }
   ],
   "source": [
    "# model.fit() 과정 중의 train/validation loss, accuracy 등이 매 epoch마다 history 변수에 저장\n",
    "history_dict = history.history\n",
    "print(history_dict.keys()) # epoch에 따른 그래프를 그려볼 수 있는 항목들"
   ]
  },
  {
   "cell_type": "code",
   "execution_count": 26,
   "id": "a6b6e771",
   "metadata": {},
   "outputs": [
    {
     "data": {
      "image/png": "[encoded data removed]",
      "text/plain": [
       "<Figure size 432x288 with 1 Axes>"
      ]
     },
     "metadata": {
      "needs_background": "light"
     },
     "output_type": "display_data"
    }
   ],
   "source": [
    "import matplotlib.pyplot as plt\n",
    "\n",
    "acc = history_dict['accuracy']\n",
    "val_acc = history_dict['val_accuracy']\n",
    "loss = history_dict['loss']\n",
    "val_loss = history_dict['val_loss']\n",
    "\n",
    "epochs = range(1, len(acc) + 1)\n",
    "\n",
    "# \"bo\"는 \"파란색 점\"입니다\n",
    "plt.plot(epochs, loss, 'bo', label='Training loss')\n",
    "# b는 \"파란 실선\"입니다\n",
    "plt.plot(epochs, val_loss, 'b', label='Validation loss')\n",
    "plt.title('Training and validation loss')\n",
    "plt.xlabel('Epochs')\n",
    "plt.ylabel('Loss')\n",
    "plt.legend()\n",
    "\n",
    "plt.show()\n",
    "\n",
    "# training loss는 epoch 진행되면서 지속적으로 감소, validation loss는 증가, 과대적합을 보임,  이에 따라 학습을 중단, \n",
    "# validation dataset 또한 test dataset을 완벽히 표현하지는 못하기 때문에 validation loss가 최소가 되는 시점이 test loss가 최소가 되는 시점과 정확히 일치하지는 않을 수도 있다.\n",
    "# 여기에선 데이터셋의 수가 많아서 과적합을 막기 위한 earlystopping을 수행하여 11번째 epoch에서 멈춘 것도 영향이 있을 것 같다."
   ]
  },
  {
   "cell_type": "code",
   "execution_count": 27,
   "id": "2e17ebfe",
   "metadata": {},
   "outputs": [
    {
     "data": {
      "image/png": "[encoded data removed]",
      "text/plain": [
       "<Figure size 432x288 with 1 Axes>"
      ]
     },
     "metadata": {
      "needs_background": "light"
     },
     "output_type": "display_data"
    }
   ],
   "source": [
    "plt.clf()   # 그림을 초기화 \n",
    "\n",
    "plt.plot(epochs, acc, 'bo', label='Training acc')\n",
    "plt.plot(epochs, val_acc, 'b', label='Validation acc')\n",
    "plt.title('Training and validation accuracy')\n",
    "plt.xlabel('Epochs')\n",
    "plt.ylabel('Accuracy')\n",
    "plt.legend()\n",
    "\n",
    "plt.show()\n",
    "# epoch 진행될 수록 훈련데이터의 정확도는 증가, 검증데이터 정확도는 일정, 약간 감소, 과대적합 경향 있음"
   ]
  },
  {
   "cell_type": "code",
   "execution_count": 28,
   "id": "b4b326c7",
   "metadata": {},
   "outputs": [
    {
     "name": "stdout",
     "output_type": "stream",
     "text": [
      "Model: \"sequential_1\"\n",
      "_________________________________________________________________\n",
      "Layer (type)                 Output Shape              Param #   \n",
      "=================================================================\n",
      "embedding_1 (Embedding)      (None, None, 41)          5993462   \n",
      "_________________________________________________________________\n",
      "conv1d (Conv1D)              (None, None, 16)          4608      \n",
      "_________________________________________________________________\n",
      "max_pooling1d (MaxPooling1D) (None, None, 16)          0         \n",
      "_________________________________________________________________\n",
      "conv1d_1 (Conv1D)            (None, None, 16)          1808      \n",
      "_________________________________________________________________\n",
      "global_max_pooling1d (Global (None, 16)                0         \n",
      "_________________________________________________________________\n",
      "dense_2 (Dense)              (None, 8)                 136       \n",
      "_________________________________________________________________\n",
      "dense_3 (Dense)              (None, 1)                 9         \n",
      "=================================================================\n",
      "Total params: 6,000,023\n",
      "Trainable params: 6,000,023\n",
      "Non-trainable params: 0\n",
      "_________________________________________________________________\n"
     ]
    }
   ],
   "source": [
    "#  model 학습2. 1-D Convolution Neural Network(1-D CNN)를 사용\n",
    "\n",
    "model = tf.keras.Sequential()\n",
    "model.add(tf.keras.layers.Embedding(vocab_size, word_vector_dim, input_shape=(None,)))\n",
    "model.add(tf.keras.layers.Conv1D(16, 7, activation='relu'))\n",
    "model.add(tf.keras.layers.MaxPooling1D(5))  # 시간적 데이터에 대한 평균 풀링\n",
    "model.add(tf.keras.layers.Conv1D(16, 7, activation='relu'))\n",
    "model.add(tf.keras.layers.GlobalMaxPooling1D())  # 시간적 데이터에 대한 글로벌 최대값 풀링 작업.\n",
    "model.add(tf.keras.layers.Dense(8, activation='relu'))\n",
    "model.add(tf.keras.layers.Dense(1, activation='sigmoid'))  # 최종 출력은 긍정/부정을 나타내는 1dim 입니다.\n",
    "\n",
    "model.summary()\n"
   ]
  },
  {
   "cell_type": "code",
   "execution_count": 29,
   "id": "f43731ce",
   "metadata": {},
   "outputs": [],
   "source": [
    "model.compile(optimizer='adam',\n",
    "              loss='binary_crossentropy',\n",
    "              metrics=['accuracy'])"
   ]
  },
  {
   "cell_type": "code",
   "execution_count": 30,
   "id": "4beb9456",
   "metadata": {},
   "outputs": [
    {
     "name": "stdout",
     "output_type": "stream",
     "text": [
      "Epoch 1/20\n",
      "229/229 [==============================] - 13s 8ms/step - loss: 0.4782 - accuracy: 0.7637 - val_loss: 0.3666 - val_accuracy: 0.8390\n",
      "Epoch 2/20\n",
      "229/229 [==============================] - 2s 7ms/step - loss: 0.3169 - accuracy: 0.8656 - val_loss: 0.3448 - val_accuracy: 0.8512\n",
      "Epoch 3/20\n",
      "229/229 [==============================] - 2s 7ms/step - loss: 0.2729 - accuracy: 0.8882 - val_loss: 0.3437 - val_accuracy: 0.8523\n",
      "Epoch 4/20\n",
      "229/229 [==============================] - 2s 7ms/step - loss: 0.2305 - accuracy: 0.9093 - val_loss: 0.3651 - val_accuracy: 0.8504\n",
      "Epoch 5/20\n",
      "229/229 [==============================] - 2s 7ms/step - loss: 0.1828 - accuracy: 0.9324 - val_loss: 0.4022 - val_accuracy: 0.8463\n",
      "Epoch 6/20\n",
      "229/229 [==============================] - 2s 7ms/step - loss: 0.1376 - accuracy: 0.9524 - val_loss: 0.4478 - val_accuracy: 0.8422\n",
      "Epoch 7/20\n",
      "229/229 [==============================] - 2s 7ms/step - loss: 0.1023 - accuracy: 0.9666 - val_loss: 0.5176 - val_accuracy: 0.8367\n",
      "Epoch 8/20\n",
      "229/229 [==============================] - 2s 7ms/step - loss: 0.0756 - accuracy: 0.9763 - val_loss: 0.5909 - val_accuracy: 0.8338\n",
      "Epoch 9/20\n",
      "229/229 [==============================] - 2s 7ms/step - loss: 0.0569 - accuracy: 0.9830 - val_loss: 0.6541 - val_accuracy: 0.8300\n",
      "Epoch 10/20\n",
      "229/229 [==============================] - 2s 7ms/step - loss: 0.0436 - accuracy: 0.9873 - val_loss: 0.7164 - val_accuracy: 0.8275\n",
      "Epoch 11/20\n",
      "229/229 [==============================] - 2s 7ms/step - loss: 0.0345 - accuracy: 0.9902 - val_loss: 0.7853 - val_accuracy: 0.8246\n",
      "Epoch 12/20\n",
      "229/229 [==============================] - 2s 7ms/step - loss: 0.0282 - accuracy: 0.9920 - val_loss: 0.8385 - val_accuracy: 0.8255\n",
      "Epoch 13/20\n",
      "229/229 [==============================] - 2s 7ms/step - loss: 0.0249 - accuracy: 0.9925 - val_loss: 0.9018 - val_accuracy: 0.8257\n",
      "Epoch 00013: early stopping\n"
     ]
    }
   ],
   "source": [
    "history = model.fit(X_train,\n",
    "                    y_train,\n",
    "                    epochs=20,\n",
    "                    batch_size=512,callbacks=[es],\n",
    "                    validation_data=(X_val, y_val),\n",
    "                    verbose=1)\n",
    "# - loss: 0.0249 - accuracy: 0.9925 - val_loss: 0.9018 - val_accuracy: 0.8257 , Epoch 00013: early stopping"
   ]
  },
  {
   "cell_type": "code",
   "execution_count": 31,
   "id": "8d31acf2",
   "metadata": {},
   "outputs": [
    {
     "name": "stdout",
     "output_type": "stream",
     "text": [
      "1537/1537 - 3s - loss: 0.9030 - accuracy: 0.8237\n",
      "[0.9030150175094604, 0.8236873745918274]\n"
     ]
    }
   ],
   "source": [
    "# 학습이 끝난 모델을 테스트셋으로 평가\n",
    "results = model.evaluate(X_test,  y_test, verbose=2)\n",
    "\n",
    "print(results)"
   ]
  },
  {
   "cell_type": "code",
   "execution_count": 32,
   "id": "891ebf0a",
   "metadata": {},
   "outputs": [
    {
     "name": "stdout",
     "output_type": "stream",
     "text": [
      "dict_keys(['loss', 'accuracy', 'val_loss', 'val_accuracy'])\n"
     ]
    }
   ],
   "source": [
    "# model.fit() 과정 중의 train/validation loss, accuracy 등이 매 epoch마다 history 변수에 저장\n",
    "history_dict = history.history\n",
    "print(history_dict.keys()) # epoch에 따른 그래프를 그려볼 수 있는 항목들"
   ]
  },
  {
   "cell_type": "code",
   "execution_count": 33,
   "id": "2a09fd57",
   "metadata": {},
   "outputs": [
    {
     "data": {
      "image/png": "[encoded data removed]",
      "text/plain": [
       "<Figure size 432x288 with 1 Axes>"
      ]
     },
     "metadata": {
      "needs_background": "light"
     },
     "output_type": "display_data"
    }
   ],
   "source": [
    "import matplotlib.pyplot as plt\n",
    "\n",
    "acc = history_dict['accuracy']\n",
    "val_acc = history_dict['val_accuracy']\n",
    "loss = history_dict['loss']\n",
    "val_loss = history_dict['val_loss']\n",
    "\n",
    "epochs = range(1, len(acc) + 1)\n",
    "\n",
    "# \"bo\"는 \"파란색 점\"입니다\n",
    "plt.plot(epochs, loss, 'bo', label='Training loss')\n",
    "# b는 \"파란 실선\"입니다\n",
    "plt.plot(epochs, val_loss, 'b', label='Validation loss')\n",
    "plt.title('Training and validation loss')\n",
    "plt.xlabel('Epochs')\n",
    "plt.ylabel('Loss')\n",
    "plt.legend()\n",
    "\n",
    "plt.show()\n",
    "# 2번째 에포크 이후  training loss와 validation loss의  차이가 커지며 과대적합 현상이 나타나고 있다. "
   ]
  },
  {
   "cell_type": "code",
   "execution_count": 34,
   "id": "dd933014",
   "metadata": {},
   "outputs": [
    {
     "data": {
      "image/png": "[encoded data removed]",
      "text/plain": [
       "<Figure size 432x288 with 1 Axes>"
      ]
     },
     "metadata": {
      "needs_background": "light"
     },
     "output_type": "display_data"
    }
   ],
   "source": [
    "plt.clf()   # 그림을 초기화 \n",
    "\n",
    "plt.plot(epochs, acc, 'bo', label='Training acc')\n",
    "plt.plot(epochs, val_acc, 'b', label='Validation acc')\n",
    "plt.title('Training and validation accuracy')\n",
    "plt.xlabel('Epochs')\n",
    "plt.ylabel('Accuracy')\n",
    "plt.legend()\n",
    "\n",
    "plt.show()"
   ]
  },
  {
   "cell_type": "code",
   "execution_count": 35,
   "id": "086d3eb1",
   "metadata": {},
   "outputs": [
    {
     "name": "stdout",
     "output_type": "stream",
     "text": [
      "Model: \"sequential_2\"\n",
      "_________________________________________________________________\n",
      "Layer (type)                 Output Shape              Param #   \n",
      "=================================================================\n",
      "embedding_2 (Embedding)      (None, None, 4)           40        \n",
      "_________________________________________________________________\n",
      "global_max_pooling1d_1 (Glob (None, 4)                 0         \n",
      "_________________________________________________________________\n",
      "dense_4 (Dense)              (None, 8)                 40        \n",
      "_________________________________________________________________\n",
      "dense_5 (Dense)              (None, 1)                 9         \n",
      "=================================================================\n",
      "Total params: 89\n",
      "Trainable params: 89\n",
      "Non-trainable params: 0\n",
      "_________________________________________________________________\n"
     ]
    }
   ],
   "source": [
    "#model 학습3. GlobalMaxPooling1D() 레이어 하나만 사용하는 방법도 생각\n",
    "\n",
    "vocab_size = 10  # 어휘 사전의 크기입니다(10개의 단어)\n",
    "word_vector_dim = 4   # 단어 하나를 표현하는 임베딩 벡터의 차원 수입니다. \n",
    "\n",
    "model = tf.keras.Sequential()\n",
    "model.add(tf.keras.layers.Embedding(vocab_size, word_vector_dim, input_shape=(None,)))\n",
    "model.add(tf.keras.layers.GlobalMaxPooling1D())\n",
    "model.add(tf.keras.layers.Dense(8, activation='relu'))\n",
    "model.add(tf.keras.layers.Dense(1, activation='sigmoid'))  # 최종 출력은 긍정/부정을 나타내는 1dim 입니다.\n",
    "\n",
    "model.summary()"
   ]
  },
  {
   "cell_type": "code",
   "execution_count": 37,
   "id": "91f6f241",
   "metadata": {},
   "outputs": [],
   "source": [
    "model.compile(optimizer='adam',\n",
    "              loss='binary_crossentropy',\n",
    "              metrics=['accuracy'])"
   ]
  },
  {
   "cell_type": "code",
   "execution_count": 38,
   "id": "2deb8ac9",
   "metadata": {},
   "outputs": [
    {
     "name": "stdout",
     "output_type": "stream",
     "text": [
      "Epoch 1/20\n",
      "229/229 [==============================] - 1s 4ms/step - loss: 0.6922 - accuracy: 0.5192 - val_loss: 0.6918 - val_accuracy: 0.5207\n",
      "Epoch 2/20\n",
      "229/229 [==============================] - 1s 4ms/step - loss: 0.6908 - accuracy: 0.5308 - val_loss: 0.6912 - val_accuracy: 0.5298\n",
      "Epoch 3/20\n",
      "229/229 [==============================] - 1s 4ms/step - loss: 0.6904 - accuracy: 0.5340 - val_loss: 0.6910 - val_accuracy: 0.5298\n",
      "Epoch 4/20\n",
      "229/229 [==============================] - 1s 4ms/step - loss: 0.6902 - accuracy: 0.5347 - val_loss: 0.6910 - val_accuracy: 0.5331\n",
      "Epoch 5/20\n",
      "229/229 [==============================] - 1s 4ms/step - loss: 0.6902 - accuracy: 0.5350 - val_loss: 0.6911 - val_accuracy: 0.5289\n",
      "Epoch 6/20\n",
      "229/229 [==============================] - 1s 4ms/step - loss: 0.6902 - accuracy: 0.5348 - val_loss: 0.6911 - val_accuracy: 0.5321\n",
      "Epoch 7/20\n",
      "229/229 [==============================] - 1s 4ms/step - loss: 0.6901 - accuracy: 0.5354 - val_loss: 0.6909 - val_accuracy: 0.5331\n",
      "Epoch 8/20\n",
      "229/229 [==============================] - 1s 4ms/step - loss: 0.6901 - accuracy: 0.5351 - val_loss: 0.6910 - val_accuracy: 0.5321\n",
      "Epoch 9/20\n",
      "229/229 [==============================] - 1s 4ms/step - loss: 0.6901 - accuracy: 0.5352 - val_loss: 0.6910 - val_accuracy: 0.5321\n",
      "Epoch 10/20\n",
      "229/229 [==============================] - 1s 4ms/step - loss: 0.6901 - accuracy: 0.5350 - val_loss: 0.6909 - val_accuracy: 0.5331\n",
      "Epoch 11/20\n",
      "229/229 [==============================] - 1s 4ms/step - loss: 0.6901 - accuracy: 0.5353 - val_loss: 0.6910 - val_accuracy: 0.5321\n",
      "Epoch 12/20\n",
      "229/229 [==============================] - 1s 4ms/step - loss: 0.6901 - accuracy: 0.5354 - val_loss: 0.6910 - val_accuracy: 0.5321\n",
      "Epoch 13/20\n",
      "229/229 [==============================] - 1s 4ms/step - loss: 0.6900 - accuracy: 0.5353 - val_loss: 0.6911 - val_accuracy: 0.5321\n",
      "Epoch 14/20\n",
      "229/229 [==============================] - 1s 4ms/step - loss: 0.6900 - accuracy: 0.5352 - val_loss: 0.6910 - val_accuracy: 0.5321\n",
      "Epoch 15/20\n",
      "229/229 [==============================] - 1s 4ms/step - loss: 0.6900 - accuracy: 0.5352 - val_loss: 0.6909 - val_accuracy: 0.5330\n",
      "Epoch 16/20\n",
      "229/229 [==============================] - 1s 4ms/step - loss: 0.6900 - accuracy: 0.5349 - val_loss: 0.6910 - val_accuracy: 0.5320\n",
      "Epoch 17/20\n",
      "229/229 [==============================] - 1s 4ms/step - loss: 0.6900 - accuracy: 0.5350 - val_loss: 0.6909 - val_accuracy: 0.5330\n",
      "Epoch 18/20\n",
      "229/229 [==============================] - 1s 4ms/step - loss: 0.6900 - accuracy: 0.5356 - val_loss: 0.6910 - val_accuracy: 0.5320\n",
      "Epoch 19/20\n",
      "229/229 [==============================] - 1s 4ms/step - loss: 0.6900 - accuracy: 0.5354 - val_loss: 0.6910 - val_accuracy: 0.5330\n",
      "Epoch 20/20\n",
      "229/229 [==============================] - 1s 4ms/step - loss: 0.6900 - accuracy: 0.5355 - val_loss: 0.6908 - val_accuracy: 0.5330\n"
     ]
    }
   ],
   "source": [
    "history = model.fit(X_train,\n",
    "                    y_train,\n",
    "                    epochs=20,\n",
    "                    batch_size=512,callbacks=[es],\n",
    "                    validation_data=(X_val, y_val),\n",
    "                    verbose=1)\n",
    "#   loss: 0.6900 - accuracy: 0.5355 - val_loss: 0.6908 - val_accuracy: 0.5330"
   ]
  },
  {
   "cell_type": "code",
   "execution_count": 39,
   "id": "51caeb55",
   "metadata": {},
   "outputs": [
    {
     "name": "stdout",
     "output_type": "stream",
     "text": [
      "1537/1537 - 2s - loss: 0.6905 - accuracy: 0.5304\n",
      "[0.6904522776603699, 0.5303822159767151]\n"
     ]
    }
   ],
   "source": [
    "# 학습이 끝난 모델을 테스트셋으로 평가\n",
    "results = model.evaluate(X_test,  y_test, verbose=2)\n",
    "\n",
    "print(results)"
   ]
  },
  {
   "cell_type": "code",
   "execution_count": 40,
   "id": "0c8949db",
   "metadata": {},
   "outputs": [
    {
     "data": {
      "image/png": "[encoded data removed]",
      "text/plain": [
       "<Figure size 432x288 with 1 Axes>"
      ]
     },
     "metadata": {
      "needs_background": "light"
     },
     "output_type": "display_data"
    }
   ],
   "source": [
    "import matplotlib.pyplot as plt\n",
    "\n",
    "acc = history_dict['accuracy']\n",
    "val_acc = history_dict['val_accuracy']\n",
    "loss = history_dict['loss']\n",
    "val_loss = history_dict['val_loss']\n",
    "\n",
    "epochs = range(1, len(acc) + 1)\n",
    "\n",
    "# \"bo\"는 \"파란색 점\"입니다\n",
    "plt.plot(epochs, loss, 'bo', label='Training loss')\n",
    "# b는 \"파란 실선\"입니다, 'b', label='Validation loss')\n",
    "plt.title('Training and validation loss')\n",
    "plt.xlabel('Epochs')\n",
    "plt.ylabel('Loss')\n",
    "plt.legend()\n",
    "\n",
    "plt.show()"
   ]
  },
  {
   "cell_type": "code",
   "execution_count": 41,
   "id": "00f83ab2",
   "metadata": {},
   "outputs": [
    {
     "data": {
      "image/png": "[encoded data removed]",
      "text/plain": [
       "<Figure size 432x288 with 1 Axes>"
      ]
     },
     "metadata": {
      "needs_background": "light"
     },
     "output_type": "display_data"
    }
   ],
   "source": [
    "plt.clf()   # 그림을 초기화 \n",
    "\n",
    "plt.plot(epochs, acc, 'bo', label='Training acc')\n",
    "plt.plot(epochs, val_acc, 'b', label='Validation acc')\n",
    "plt.title('Training and validation accuracy')\n",
    "plt.xlabel('Epochs')\n",
    "plt.ylabel('Accuracy')\n",
    "plt.legend()\n",
    "\n",
    "plt.show()"
   ]
  },
  {
   "cell_type": "code",
   "execution_count": null,
   "id": "f3171ddc",
   "metadata": {},
   "outputs": [],
   "source": [
    "! mkdir -p ~/aiffel/sentiment_classification/data\n",
    "! pip list | grep gensim"
   ]
  },
  {
   "cell_type": "code",
   "execution_count": null,
   "id": "5c8f4ea1",
   "metadata": {},
   "outputs": [],
   "source": [
    "# "
   ]
  },
  {
   "cell_type": "markdown",
   "id": "204677b4",
   "metadata": {},
   "source": [
    "## <회고>\n",
    "1. Word2Vec 이용한 모델도 훈련을 해 보아야하는데.. 데이터가 upload가 되지 않아 더 이상 훈련을 수행할 수 없어 여기서 멈춤을 합니다.\n",
    "2. 정확도를 보면 RNN : 0.8402, 1-D CNN : 0.8237, Globalmaxpooling : 0.5330로 Globalmaxpooling 모델의 경우 가장 낮은 정확도가 나옴.\n",
    "\n",
    "3. 처음에 과제 진행하는 중에 오류가 발생 (GPU 용량이 부족하다는..) 퍼실님의 도움으로 재부팅으로 다시 실행한 결과 진행이 제대로 됨\n",
    "4. 조금씩 이해가 되고 있으나 아직도 본인 혼자의 힘으로는 부족하여 여기저기 자료를 찾게 됨, 그게 공부이겠지요?\n",
    "5. 코딩을 입력을 해 보는데 그대로 입력을 했으나 실행이 안되고 오류가 발생하는 경우도 잦음.. 좀 더 꼼꼼히 살펴보고 연습해야 할 것 같음."
   ]
  },
  {
   "cell_type": "code",
   "execution_count": 116,
   "id": "261ace29",
   "metadata": {},
   "outputs": [],
   "source": []
  }
 ],
 "metadata": {
  "kernelspec": {
   "display_name": "Python 3 (ipykernel)",
   "language": "python",
   "name": "python3"
  },
  "language_info": {
   "codemirror_mode": {
    "name": "ipython",
    "version": 3
   },
   "file_extension": ".py",
   "mimetype": "text/x-python",
   "name": "python",
   "nbconvert_exporter": "python",
   "pygments_lexer": "ipython3",
   "version": "3.9.7"
  }
 },
 "nbformat": 4,
 "nbformat_minor": 5
}
