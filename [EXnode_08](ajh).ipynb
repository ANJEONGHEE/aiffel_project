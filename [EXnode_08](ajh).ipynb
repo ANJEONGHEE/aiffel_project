{
 "cells": [
  {
   "cell_type": "code",
   "execution_count": 1,
   "id": "00dbdd7f",
   "metadata": {},
   "outputs": [],
   "source": [
    "# ! mkdir -p ~/aiffel/news_summarization/data\n",
    "# ! ln -s ~/data/*.csv ~/aiffel/news_summarization/data\n"
   ]
  },
  {
   "cell_type": "markdown",
   "id": "173fb365",
   "metadata": {},
   "source": [
    "## step1. 데이터 수집하기\n",
    "### news_summary_more.csv 뉴스 기사 사용"
   ]
  },
  {
   "cell_type": "code",
   "execution_count": 2,
   "id": "5298f9b2",
   "metadata": {},
   "outputs": [
    {
     "name": "stderr",
     "output_type": "stream",
     "text": [
      "[nltk_data] Downloading package stopwords to /aiffel/nltk_data...\n",
      "[nltk_data]   Package stopwords is already up-to-date!\n"
     ]
    },
    {
     "name": "stdout",
     "output_type": "stream",
     "text": [
      "=3\n"
     ]
    }
   ],
   "source": [
    "# NLTK 패키지에서 불용어 사전을 다운로드하고, 데이터 전처리를 위한 나머지 패키지도 함께 불러오기\n",
    "import nltk\n",
    "nltk.download('stopwords')\n",
    "\n",
    "import numpy as np\n",
    "import pandas as pd\n",
    "import os\n",
    "import re\n",
    "import matplotlib.pyplot as plt\n",
    "from nltk.corpus import stopwords\n",
    "from bs4 import BeautifulSoup \n",
    "from tensorflow.keras.preprocessing.text import Tokenizer \n",
    "from tensorflow.keras.preprocessing.sequence import pad_sequences\n",
    "import urllib.request\n",
    "import warnings\n",
    "warnings.filterwarnings(\"ignore\", category=UserWarning, module='bs4')ㅈ\n",
    "\n",
    "print('=3')"
   ]
  },
  {
   "cell_type": "code",
   "execution_count": 3,
   "id": "5d6c83fb",
   "metadata": {},
   "outputs": [
    {
     "name": "stdout",
     "output_type": "stream",
     "text": [
      "전체 샘플수 : 98401\n"
     ]
    }
   ],
   "source": [
    "import urllib.request\n",
    "urllib.request.urlretrieve(\"https://raw.githubusercontent.com/sunnysai12345/News_Summary/master/news_summary_more.csv\", filename=\"news_summary_more.csv\")\n",
    "data = pd.read_csv('news_summary_more.csv', encoding='iso-8859-1')\n",
    "print('전체 샘플수 :', (len(data)))"
   ]
  },
  {
   "cell_type": "code",
   "execution_count": 4,
   "id": "8994834b",
   "metadata": {},
   "outputs": [
    {
     "data": {
      "text/html": [
       "<div>\n",
       "<style scoped>\n",
       "    .dataframe tbody tr th:only-of-type {\n",
       "        vertical-align: middle;\n",
       "    }\n",
       "\n",
       "    .dataframe tbody tr th {\n",
       "        vertical-align: top;\n",
       "    }\n",
       "\n",
       "    .dataframe thead th {\n",
       "        text-align: right;\n",
       "    }\n",
       "</style>\n",
       "<table border=\"1\" class=\"dataframe\">\n",
       "  <thead>\n",
       "    <tr style=\"text-align: right;\">\n",
       "      <th></th>\n",
       "      <th>headlines</th>\n",
       "      <th>text</th>\n",
       "    </tr>\n",
       "  </thead>\n",
       "  <tbody>\n",
       "    <tr>\n",
       "      <th>61244</th>\n",
       "      <td>Man rapes mentally challenged woman in public ...</td>\n",
       "      <td>A mentally challenged woman was allegedly rape...</td>\n",
       "    </tr>\n",
       "    <tr>\n",
       "      <th>95567</th>\n",
       "      <td>Bombay HC orders stay on Raveena Tandon's film...</td>\n",
       "      <td>The Bombay High Court has put a stay on the re...</td>\n",
       "    </tr>\n",
       "    <tr>\n",
       "      <th>18386</th>\n",
       "      <td>Bridge collapses in West Bengal, second in 4 days</td>\n",
       "      <td>An old bridge collapsed near Siliguri in West ...</td>\n",
       "    </tr>\n",
       "    <tr>\n",
       "      <th>4600</th>\n",
       "      <td>Canadian held for living illegally in Vrindava...</td>\n",
       "      <td>A 55-year-old Canadian national named Rayan Ad...</td>\n",
       "    </tr>\n",
       "    <tr>\n",
       "      <th>92892</th>\n",
       "      <td>I'd sing in trains and get money in college da...</td>\n",
       "      <td>Actor Ayushmann Khurrana has revealed that dur...</td>\n",
       "    </tr>\n",
       "    <tr>\n",
       "      <th>8600</th>\n",
       "      <td>NZ go from 50/0 to 90/10 in 14 overs, 6 batsme...</td>\n",
       "      <td>Pakistan reduced New Zealand from 50/0 in 21.3...</td>\n",
       "    </tr>\n",
       "    <tr>\n",
       "      <th>23904</th>\n",
       "      <td>Dog wrapped in flag of Imran's party shot dead...</td>\n",
       "      <td>A dog wrapped in the flag of Pakistan's genera...</td>\n",
       "    </tr>\n",
       "    <tr>\n",
       "      <th>55102</th>\n",
       "      <td>Modi govt forced CSO to give good data on note...</td>\n",
       "      <td>BJP MP Subramanian Swamy has alleged that Cent...</td>\n",
       "    </tr>\n",
       "    <tr>\n",
       "      <th>29195</th>\n",
       "      <td>PM Modi never promised Ã¢ÂÂ¹15 lakh to every ...</td>\n",
       "      <td>BJP MP Amar Sable has said PM Narendra Modi ne...</td>\n",
       "    </tr>\n",
       "    <tr>\n",
       "      <th>43026</th>\n",
       "      <td>Rural health-tech startup Karma Healthcare rai...</td>\n",
       "      <td>Rajasthan-based rural health-tech startup Karm...</td>\n",
       "    </tr>\n",
       "  </tbody>\n",
       "</table>\n",
       "</div>"
      ],
      "text/plain": [
       "                                               headlines  \\\n",
       "61244  Man rapes mentally challenged woman in public ...   \n",
       "95567  Bombay HC orders stay on Raveena Tandon's film...   \n",
       "18386  Bridge collapses in West Bengal, second in 4 days   \n",
       "4600   Canadian held for living illegally in Vrindava...   \n",
       "92892  I'd sing in trains and get money in college da...   \n",
       "8600   NZ go from 50/0 to 90/10 in 14 overs, 6 batsme...   \n",
       "23904  Dog wrapped in flag of Imran's party shot dead...   \n",
       "55102  Modi govt forced CSO to give good data on note...   \n",
       "29195  PM Modi never promised Ã¢ÂÂ¹15 lakh to every ...   \n",
       "43026  Rural health-tech startup Karma Healthcare rai...   \n",
       "\n",
       "                                                    text  \n",
       "61244  A mentally challenged woman was allegedly rape...  \n",
       "95567  The Bombay High Court has put a stay on the re...  \n",
       "18386  An old bridge collapsed near Siliguri in West ...  \n",
       "4600   A 55-year-old Canadian national named Rayan Ad...  \n",
       "92892  Actor Ayushmann Khurrana has revealed that dur...  \n",
       "8600   Pakistan reduced New Zealand from 50/0 in 21.3...  \n",
       "23904  A dog wrapped in the flag of Pakistan's genera...  \n",
       "55102  BJP MP Subramanian Swamy has alleged that Cent...  \n",
       "29195  BJP MP Amar Sable has said PM Narendra Modi ne...  \n",
       "43026  Rajasthan-based rural health-tech startup Karm...  "
      ]
     },
     "execution_count": 4,
     "metadata": {},
     "output_type": "execute_result"
    }
   ],
   "source": [
    "data.sample(10)   #랜덤한 10개 샘플 출력해보기"
   ]
  },
  {
   "cell_type": "code",
   "execution_count": 5,
   "id": "68f6ddc6",
   "metadata": {
    "scrolled": true
   },
   "outputs": [
    {
     "data": {
      "text/html": [
       "<div>\n",
       "<style scoped>\n",
       "    .dataframe tbody tr th:only-of-type {\n",
       "        vertical-align: middle;\n",
       "    }\n",
       "\n",
       "    .dataframe tbody tr th {\n",
       "        vertical-align: top;\n",
       "    }\n",
       "\n",
       "    .dataframe thead th {\n",
       "        text-align: right;\n",
       "    }\n",
       "</style>\n",
       "<table border=\"1\" class=\"dataframe\">\n",
       "  <thead>\n",
       "    <tr style=\"text-align: right;\">\n",
       "      <th></th>\n",
       "      <th>headlines</th>\n",
       "      <th>text</th>\n",
       "    </tr>\n",
       "  </thead>\n",
       "  <tbody>\n",
       "    <tr>\n",
       "      <th>0</th>\n",
       "      <td>upGrad learner switches to career in ML &amp; Al w...</td>\n",
       "      <td>Saurav Kant, an alumnus of upGrad and IIIT-B's...</td>\n",
       "    </tr>\n",
       "    <tr>\n",
       "      <th>1</th>\n",
       "      <td>Delhi techie wins free food from Swiggy for on...</td>\n",
       "      <td>Kunal Shah's credit card bill payment platform...</td>\n",
       "    </tr>\n",
       "    <tr>\n",
       "      <th>2</th>\n",
       "      <td>New Zealand end Rohit Sharma-led India's 12-ma...</td>\n",
       "      <td>New Zealand defeated India by 8 wickets in the...</td>\n",
       "    </tr>\n",
       "    <tr>\n",
       "      <th>3</th>\n",
       "      <td>Aegon life iTerm insurance plan helps customer...</td>\n",
       "      <td>With Aegon Life iTerm Insurance plan, customer...</td>\n",
       "    </tr>\n",
       "    <tr>\n",
       "      <th>4</th>\n",
       "      <td>Have known Hirani for yrs, what if MeToo claim...</td>\n",
       "      <td>Speaking about the sexual harassment allegatio...</td>\n",
       "    </tr>\n",
       "  </tbody>\n",
       "</table>\n",
       "</div>"
      ],
      "text/plain": [
       "                                           headlines  \\\n",
       "0  upGrad learner switches to career in ML & Al w...   \n",
       "1  Delhi techie wins free food from Swiggy for on...   \n",
       "2  New Zealand end Rohit Sharma-led India's 12-ma...   \n",
       "3  Aegon life iTerm insurance plan helps customer...   \n",
       "4  Have known Hirani for yrs, what if MeToo claim...   \n",
       "\n",
       "                                                text  \n",
       "0  Saurav Kant, an alumnus of upGrad and IIIT-B's...  \n",
       "1  Kunal Shah's credit card bill payment platform...  \n",
       "2  New Zealand defeated India by 8 wickets in the...  \n",
       "3  With Aegon Life iTerm Insurance plan, customer...  \n",
       "4  Speaking about the sexual harassment allegatio...  "
      ]
     },
     "execution_count": 5,
     "metadata": {},
     "output_type": "execute_result"
    }
   ],
   "source": [
    "data.head()             # 불러온 샘플 중 5개만 보여줘~"
   ]
  },
  {
   "cell_type": "markdown",
   "id": "d92fe666",
   "metadata": {},
   "source": [
    "## step2. 데이터 전처리하기(추상적 요약)"
   ]
  },
  {
   "cell_type": "code",
   "execution_count": 46,
   "id": "96d13e2f",
   "metadata": {
    "scrolled": true
   },
   "outputs": [
    {
     "name": "stdout",
     "output_type": "stream",
     "text": [
      "text 열에서 중복을 배제한 유일한 샘플의 수 : 80027\n",
      "headlines 열에서 중복을 배제한 유일한 샘플의 수 : 79892\n"
     ]
    }
   ],
   "source": [
    "# 데이터의 중복 샘플 유무를 확인\n",
    "print('text 열에서 중복을 배제한 유일한 샘플의 수 :', data['text'].nunique())\n",
    "print('headlines 열에서 중복을 배제한 유일한 샘플의 수 :', data['headlines'].nunique())"
   ]
  },
  {
   "cell_type": "code",
   "execution_count": 7,
   "id": "7b3c0fde",
   "metadata": {},
   "outputs": [
    {
     "name": "stdout",
     "output_type": "stream",
     "text": [
      "headlines    0\n",
      "text         0\n",
      "dtype: int64\n"
     ]
    }
   ],
   "source": [
    "# Null 값이 있는지 확인\n",
    "print(data.isnull().sum())"
   ]
  },
  {
   "cell_type": "code",
   "execution_count": 8,
   "id": "1784c0eb",
   "metadata": {},
   "outputs": [
    {
     "name": "stdout",
     "output_type": "stream",
     "text": [
      "정규화 사전의 수:  120\n"
     ]
    }
   ],
   "source": [
    "contractions = {\"ain't\": \"is not\", \"aren't\": \"are not\",\"can't\": \"cannot\", \"'cause\": \"because\", \"could've\": \"could have\", \"couldn't\": \"could not\",\n",
    "                           \"didn't\": \"did not\",  \"doesn't\": \"does not\", \"don't\": \"do not\", \"hadn't\": \"had not\", \"hasn't\": \"has not\", \"haven't\": \"have not\",\n",
    "                           \"he'd\": \"he would\",\"he'll\": \"he will\", \"he's\": \"he is\", \"how'd\": \"how did\", \"how'd'y\": \"how do you\", \"how'll\": \"how will\", \"how's\": \"how is\",\n",
    "                           \"I'd\": \"I would\", \"I'd've\": \"I would have\", \"I'll\": \"I will\", \"I'll've\": \"I will have\",\"I'm\": \"I am\", \"I've\": \"I have\", \"i'd\": \"i would\",\n",
    "                           \"i'd've\": \"i would have\", \"i'll\": \"i will\",  \"i'll've\": \"i will have\",\"i'm\": \"i am\", \"i've\": \"i have\", \"isn't\": \"is not\", \"it'd\": \"it would\",\n",
    "                           \"it'd've\": \"it would have\", \"it'll\": \"it will\", \"it'll've\": \"it will have\",\"it's\": \"it is\", \"let's\": \"let us\", \"ma'am\": \"madam\",\n",
    "                           \"mayn't\": \"may not\", \"might've\": \"might have\",\"mightn't\": \"might not\",\"mightn't've\": \"might not have\", \"must've\": \"must have\",\n",
    "                           \"mustn't\": \"must not\", \"mustn't've\": \"must not have\", \"needn't\": \"need not\", \"needn't've\": \"need not have\",\"o'clock\": \"of the clock\",\n",
    "                           \"oughtn't\": \"ought not\", \"oughtn't've\": \"ought not have\", \"shan't\": \"shall not\", \"sha'n't\": \"shall not\", \"shan't've\": \"shall not have\",\n",
    "                           \"she'd\": \"she would\", \"she'd've\": \"she would have\", \"she'll\": \"she will\", \"she'll've\": \"she will have\", \"she's\": \"she is\",\n",
    "                           \"should've\": \"should have\", \"shouldn't\": \"should not\", \"shouldn't've\": \"should not have\", \"so've\": \"so have\",\"so's\": \"so as\",\n",
    "                           \"this's\": \"this is\",\"that'd\": \"that would\", \"that'd've\": \"that would have\", \"that's\": \"that is\", \"there'd\": \"there would\",\n",
    "                           \"there'd've\": \"there would have\", \"there's\": \"there is\", \"here's\": \"here is\",\"they'd\": \"they would\", \"they'd've\": \"they would have\",\n",
    "                           \"they'll\": \"they will\", \"they'll've\": \"they will have\", \"they're\": \"they are\", \"they've\": \"they have\", \"to've\": \"to have\",\n",
    "                           \"wasn't\": \"was not\", \"we'd\": \"we would\", \"we'd've\": \"we would have\", \"we'll\": \"we will\", \"we'll've\": \"we will have\", \"we're\": \"we are\",\n",
    "                           \"we've\": \"we have\", \"weren't\": \"were not\", \"what'll\": \"what will\", \"what'll've\": \"what will have\", \"what're\": \"what are\",\n",
    "                           \"what's\": \"what is\", \"what've\": \"what have\", \"when's\": \"when is\", \"when've\": \"when have\", \"where'd\": \"where did\", \"where's\": \"where is\",\n",
    "                           \"where've\": \"where have\", \"who'll\": \"who will\", \"who'll've\": \"who will have\", \"who's\": \"who is\", \"who've\": \"who have\",\n",
    "                           \"why's\": \"why is\", \"why've\": \"why have\", \"will've\": \"will have\", \"won't\": \"will not\", \"won't've\": \"will not have\",\n",
    "                           \"would've\": \"would have\", \"wouldn't\": \"would not\", \"wouldn't've\": \"would not have\", \"y'all\": \"you all\",\n",
    "                           \"y'all'd\": \"you all would\",\"y'all'd've\": \"you all would have\",\"y'all're\": \"you all are\",\"y'all've\": \"you all have\",\n",
    "                           \"you'd\": \"you would\", \"you'd've\": \"you would have\", \"you'll\": \"you will\", \"you'll've\": \"you will have\",\n",
    "                           \"you're\": \"you are\", \"you've\": \"you have\"}\n",
    "\n",
    "print(\"정규화 사전의 수: \", len(contractions))"
   ]
  },
  {
   "cell_type": "code",
   "execution_count": 9,
   "id": "2c404290",
   "metadata": {},
   "outputs": [
    {
     "name": "stdout",
     "output_type": "stream",
     "text": [
      "불용어 개수 : 179\n",
      "['i', 'me', 'my', 'myself', 'we', 'our', 'ours', 'ourselves', 'you', \"you're\", \"you've\", \"you'll\", \"you'd\", 'your', 'yours', 'yourself', 'yourselves', 'he', 'him', 'his', 'himself', 'she', \"she's\", 'her', 'hers', 'herself', 'it', \"it's\", 'its', 'itself', 'they', 'them', 'their', 'theirs', 'themselves', 'what', 'which', 'who', 'whom', 'this', 'that', \"that'll\", 'these', 'those', 'am', 'is', 'are', 'was', 'were', 'be', 'been', 'being', 'have', 'has', 'had', 'having', 'do', 'does', 'did', 'doing', 'a', 'an', 'the', 'and', 'but', 'if', 'or', 'because', 'as', 'until', 'while', 'of', 'at', 'by', 'for', 'with', 'about', 'against', 'between', 'into', 'through', 'during', 'before', 'after', 'above', 'below', 'to', 'from', 'up', 'down', 'in', 'out', 'on', 'off', 'over', 'under', 'again', 'further', 'then', 'once', 'here', 'there', 'when', 'where', 'why', 'how', 'all', 'any', 'both', 'each', 'few', 'more', 'most', 'other', 'some', 'such', 'no', 'nor', 'not', 'only', 'own', 'same', 'so', 'than', 'too', 'very', 's', 't', 'can', 'will', 'just', 'don', \"don't\", 'should', \"should've\", 'now', 'd', 'll', 'm', 'o', 're', 've', 'y', 'ain', 'aren', \"aren't\", 'couldn', \"couldn't\", 'didn', \"didn't\", 'doesn', \"doesn't\", 'hadn', \"hadn't\", 'hasn', \"hasn't\", 'haven', \"haven't\", 'isn', \"isn't\", 'ma', 'mightn', \"mightn't\", 'mustn', \"mustn't\", 'needn', \"needn't\", 'shan', \"shan't\", 'shouldn', \"shouldn't\", 'wasn', \"wasn't\", 'weren', \"weren't\", 'won', \"won't\", 'wouldn', \"wouldn't\"]\n"
     ]
    }
   ],
   "source": [
    "print('불용어 개수 :', len(stopwords.words('english') ))\n",
    "print(stopwords.words('english'))"
   ]
  },
  {
   "cell_type": "code",
   "execution_count": 10,
   "id": "01cc1373",
   "metadata": {},
   "outputs": [
    {
     "name": "stdout",
     "output_type": "stream",
     "text": [
      "=3\n"
     ]
    }
   ],
   "source": [
    "# 데이터 전처리 함수\n",
    "def preprocess_sentence(sentence, remove_stopwords=True):\n",
    "    sentence = sentence.lower() # 텍스트 소문자화\n",
    "    sentence = BeautifulSoup(sentence, \"lxml\").text # <br />, <a href = ...> 등의 html 태그 제거\n",
    "    sentence = re.sub(r'\\([^)]*\\)', '', sentence) # 괄호로 닫힌 문자열 (...) 제거 Ex) my husband (and myself!) for => my husband for\n",
    "    sentence = re.sub('\"','', sentence) # 쌍따옴표 \" 제거\n",
    "    sentence = ' '.join([contractions[t] if t in contractions else t for t in sentence.split(\" \")]) # 약어 정규화\n",
    "    sentence = re.sub(r\"'s\\b\",\"\", sentence) # 소유격 제거. Ex) roland's -> roland\n",
    "    sentence = re.sub(\"[^a-zA-Z]\", \" \", sentence) # 영어 외 문자(숫자, 특수문자 등) 공백으로 변환\n",
    "    sentence = re.sub('[m]{2,}', 'mm', sentence) # m이 3개 이상이면 2개로 변경. Ex) ummmmmmm yeah -> umm yeah\n",
    "    \n",
    "    # 불용어 제거 (Text)\n",
    "    if remove_stopwords:\n",
    "        tokens = ' '.join(word for word in sentence.split() if not word in stopwords.words('english') if len(word) > 1)\n",
    "    # 불용어 미제거 (Summary)\n",
    "    else:\n",
    "        tokens = ' '.join(word for word in sentence.split() if len(word) > 1)\n",
    "    return tokens\n",
    "print('=3')"
   ]
  },
  {
   "cell_type": "code",
   "execution_count": 11,
   "id": "73c07e9b",
   "metadata": {},
   "outputs": [
    {
     "name": "stdout",
     "output_type": "stream",
     "text": [
      "text:  everything bought great infact ordered twice third ordered wasfor mother father\n",
      "summary: great way to start the day\n"
     ]
    }
   ],
   "source": [
    "temp_text = 'Everything I bought was great, infact I ordered twice and the third ordered was<br />for my mother and father.'\n",
    "temp_summary = 'Great way to start (or finish) the day!!!'\n",
    "\n",
    "print(\"text: \", preprocess_sentence(temp_text))\n",
    "print(\"summary:\", preprocess_sentence(temp_summary, False))  # 불용어를 제거하지 않습니다."
   ]
  },
  {
   "cell_type": "code",
   "execution_count": 12,
   "id": "de8bf0a9",
   "metadata": {},
   "outputs": [],
   "source": [
    "# clean_text = []\n",
    "# # 전체 Text 데이터에 대한 전처리 : 10분 이상 시간이 걸릴 수 있습니다. \n",
    "# for s in data['text']:\n",
    "#     clean_text.append(preprocess_sentence(s))\n",
    "\n",
    "# # 전처리 후 출력\n",
    "# print(\"text 전처리 후 결과: \", clean_text[:5])"
   ]
  },
  {
   "cell_type": "code",
   "execution_count": 13,
   "id": "ead88bc4",
   "metadata": {},
   "outputs": [
    {
     "name": "stdout",
     "output_type": "stream",
     "text": [
      "299.7531065940857  seconds\n",
      "['saurav kant alumnus upgrad iiit pg program machine learning artificial intelligence sr systems engineer infosys almost years work experience program upgrad degree career support helped transition data scientist tech mahindra salary hike upgrad online power learning powered lakh careers'\n",
      " 'kunal shah credit card bill payment platform cred gave users chance win free food swiggy one year pranav kaushik delhi techie bagged reward spending cred coins users get one cred coin per rupee bill paid used avail rewards brands like ixigo bookmyshow ubereats cult fit'\n",
      " 'new zealand defeated india wickets fourth odi hamilton thursday win first match five match odi series india lost international match rohit sharma captaincy consecutive victories dating back march match witnessed india getting seventh lowest total odi cricket history'\n",
      " ...\n",
      " 'according reports new version science fiction film matrix development michael jordan reportedly play lead role film screenwriter zak penn talks write script film reports added actor keanu reeves starred original film followed two sequels'\n",
      " 'new music video shows rapper snoop dogg aiming toy gun clown character parodying us president donald trump video also shows tv airing news conference headline ronald klump wants deport doggs airing live clown house video remixed version song lavender'\n",
      " 'madhesi morcha alliance seven political parties withdrawn support pm pushpa kamal dahal led nepal government failed meet seven day ultimatum fulfil demands including endorsement revised constitution amendment bill morcha seats parliament despite withdrawal support immediate threat government']\n",
      "9.85804295539856  seconds\n",
      "['upgrad learner switches to career in ml al with salary hike'\n",
      " 'delhi techie wins free food from swiggy for one year on cred'\n",
      " 'new zealand end rohit sharma led india match winning streak' ...\n",
      " 'the matrix film to get reboot reports'\n",
      " 'snoop dogg aims gun at clown dressed as trump in new video'\n",
      " 'madhesi morcha withdraws support to nepalese government']\n"
     ]
    }
   ],
   "source": [
    "##멀티프로세싱을 활용하여 별도의 프로세스를 생성하여 병렬처리하면 CPU수에 비례하여 획기적으로 소요 시간을 줄일 수 있습니다.\n",
    "\n",
    "import multiprocessing as mp   # 멀티 프로세싱으로 전처리 속도를 획기적으로 줄여봅시다\n",
    "from multiprocessing import Pool\n",
    "import numpy as np\n",
    "import time\n",
    "from functools import partial  # map을 할 때 함수에 여러 인자를 넣어줄 수 있도록 합니다\n",
    "\n",
    "start = time.time()\n",
    "\n",
    "# num_cores 만큼 쪼개진 데이터를 전처리하여 반환합니다\n",
    "def appendTexts(sentences, remove_stopwords):\n",
    "  texts = []\n",
    "  for s in sentences:\n",
    "    texts += preprocess_sentence(s, remove_stopwords),\n",
    "  return texts\n",
    "\n",
    "def preprocess_data(data, remove_stopwords=True):\n",
    "  start_time = time.time()\n",
    "  num_cores = mp.cpu_count()  # 컴퓨터의 코어 수를 구합니다\n",
    "\n",
    "  text_data_split = np.array_split(data, num_cores)  # 코어 수만큼 데이터를 배분하여 병렬적으로 처리할 수 있게 합니다\n",
    "  pool = Pool(num_cores)\n",
    "\n",
    "  processed_data = np.concatenate(pool.map(partial(appendTexts, remove_stopwords=remove_stopwords), text_data_split))  # 각자 작업한 데이터를 하나로 합쳐줍니다\n",
    "  pool.close()\n",
    "  pool.join()\n",
    "  print(time.time() - start_time, \" seconds\")\n",
    "  return processed_data\n",
    "\n",
    "clean_text = preprocess_data(data['text'])  # 클라우드 기준으로 3~4분 정도 소요 됩니다\n",
    "print(clean_text)\n",
    "\n",
    "clean_headlines = preprocess_data(data['headlines'], remove_stopwords=False) # 클라우드 기준 1분정도 소요됩니다.\n",
    "print(clean_headlines)"
   ]
  },
  {
   "cell_type": "code",
   "execution_count": 14,
   "id": "ecf503bc",
   "metadata": {},
   "outputs": [
    {
     "name": "stdout",
     "output_type": "stream",
     "text": [
      "=3\n"
     ]
    }
   ],
   "source": [
    "data['text'] = clean_text\n",
    "data['headlines'] = clean_headlines\n",
    "\n",
    "# 빈 값을 Null 값으로 변환\n",
    "data.replace('', np.nan, inplace=True)\n",
    "print('=3')"
   ]
  },
  {
   "cell_type": "code",
   "execution_count": 15,
   "id": "96b0f591",
   "metadata": {},
   "outputs": [
    {
     "data": {
      "text/plain": [
       "headlines    0\n",
       "text         0\n",
       "dtype: int64"
      ]
     },
     "execution_count": 15,
     "metadata": {},
     "output_type": "execute_result"
    }
   ],
   "source": [
    "data.isnull().sum()"
   ]
  },
  {
   "cell_type": "code",
   "execution_count": 16,
   "id": "e4f362fc",
   "metadata": {},
   "outputs": [
    {
     "data": {
      "text/html": [
       "<div>\n",
       "<style scoped>\n",
       "    .dataframe tbody tr th:only-of-type {\n",
       "        vertical-align: middle;\n",
       "    }\n",
       "\n",
       "    .dataframe tbody tr th {\n",
       "        vertical-align: top;\n",
       "    }\n",
       "\n",
       "    .dataframe thead th {\n",
       "        text-align: right;\n",
       "    }\n",
       "</style>\n",
       "<table border=\"1\" class=\"dataframe\">\n",
       "  <thead>\n",
       "    <tr style=\"text-align: right;\">\n",
       "      <th></th>\n",
       "      <th>headlines</th>\n",
       "      <th>text</th>\n",
       "    </tr>\n",
       "  </thead>\n",
       "  <tbody>\n",
       "    <tr>\n",
       "      <th>0</th>\n",
       "      <td>upgrad learner switches to career in ml al wit...</td>\n",
       "      <td>saurav kant alumnus upgrad iiit pg program mac...</td>\n",
       "    </tr>\n",
       "    <tr>\n",
       "      <th>1</th>\n",
       "      <td>delhi techie wins free food from swiggy for on...</td>\n",
       "      <td>kunal shah credit card bill payment platform c...</td>\n",
       "    </tr>\n",
       "    <tr>\n",
       "      <th>2</th>\n",
       "      <td>new zealand end rohit sharma led india match w...</td>\n",
       "      <td>new zealand defeated india wickets fourth odi ...</td>\n",
       "    </tr>\n",
       "    <tr>\n",
       "      <th>3</th>\n",
       "      <td>aegon life iterm insurance plan helps customer...</td>\n",
       "      <td>aegon life iterm insurance plan customers enjo...</td>\n",
       "    </tr>\n",
       "    <tr>\n",
       "      <th>4</th>\n",
       "      <td>have known hirani for yrs what if metoo claims...</td>\n",
       "      <td>speaking sexual harassment allegations rajkuma...</td>\n",
       "    </tr>\n",
       "  </tbody>\n",
       "</table>\n",
       "</div>"
      ],
      "text/plain": [
       "                                           headlines  \\\n",
       "0  upgrad learner switches to career in ml al wit...   \n",
       "1  delhi techie wins free food from swiggy for on...   \n",
       "2  new zealand end rohit sharma led india match w...   \n",
       "3  aegon life iterm insurance plan helps customer...   \n",
       "4  have known hirani for yrs what if metoo claims...   \n",
       "\n",
       "                                                text  \n",
       "0  saurav kant alumnus upgrad iiit pg program mac...  \n",
       "1  kunal shah credit card bill payment platform c...  \n",
       "2  new zealand defeated india wickets fourth odi ...  \n",
       "3  aegon life iterm insurance plan customers enjo...  \n",
       "4  speaking sexual harassment allegations rajkuma...  "
      ]
     },
     "execution_count": 16,
     "metadata": {},
     "output_type": "execute_result"
    }
   ],
   "source": [
    "data.head()"
   ]
  },
  {
   "cell_type": "code",
   "execution_count": 17,
   "id": "c66108bb",
   "metadata": {
    "scrolled": true
   },
   "outputs": [
    {
     "name": "stdout",
     "output_type": "stream",
     "text": [
      "전체 샘플수 : 98401\n"
     ]
    }
   ],
   "source": [
    "data.dropna(axis=0, inplace=True)\n",
    "print('전체 샘플수 :', (len(data)))"
   ]
  },
  {
   "cell_type": "code",
   "execution_count": 18,
   "id": "8e4d972e",
   "metadata": {},
   "outputs": [
    {
     "name": "stdout",
     "output_type": "stream",
     "text": [
      "텍스트의 최소 길이 : 1\n",
      "텍스트의 최대 길이 : 60\n",
      "텍스트의 평균 길이 : 35.09983638377659\n",
      "요약의 최소 길이 : 1\n",
      "요약의 최대 길이 : 16\n",
      "요약의 평균 길이 : 9.299651426306644\n"
     ]
    },
    {
     "data": {
      "image/png": "[encoded data removed]",
      "text/plain": [
       "<Figure size 432x288 with 2 Axes>"
      ]
     },
     "metadata": {
      "needs_background": "light"
     },
     "output_type": "display_data"
    },
    {
     "data": {
      "image/png": "[encoded data removed]",
      "text/plain": [
       "<Figure size 432x288 with 1 Axes>"
      ]
     },
     "metadata": {
      "needs_background": "light"
     },
     "output_type": "display_data"
    },
    {
     "data": {
      "image/png": "[encoded data removed]",
      "text/plain": [
       "<Figure size 432x288 with 1 Axes>"
      ]
     },
     "metadata": {
      "needs_background": "light"
     },
     "output_type": "display_data"
    }
   ],
   "source": [
    "# 길이 분포 출력\n",
    "import matplotlib.pyplot as plt\n",
    "\n",
    "text_len = [len(s.split()) for s in data['text']]\n",
    "headlines_len = [len(s.split()) for s in data['headlines']]\n",
    "\n",
    "print('텍스트의 최소 길이 : {}'.format(np.min(text_len)))\n",
    "print('텍스트의 최대 길이 : {}'.format(np.max(text_len)))\n",
    "print('텍스트의 평균 길이 : {}'.format(np.mean(text_len)))\n",
    "print('요약의 최소 길이 : {}'.format(np.min(headlines_len)))\n",
    "print('요약의 최대 길이 : {}'.format(np.max(headlines_len)))\n",
    "print('요약의 평균 길이 : {}'.format(np.mean(headlines_len)))\n",
    "\n",
    "plt.subplot(1,2,1)\n",
    "plt.boxplot(headlines_len)\n",
    "plt.title('Headlines')\n",
    "plt.subplot(1,2,2)\n",
    "plt.boxplot(text_len)\n",
    "plt.title('Text')\n",
    "plt.tight_layout()\n",
    "plt.show()\n",
    "\n",
    "plt.title('Headlines')\n",
    "plt.hist(headlines_len, bins = 40)\n",
    "plt.xlabel('length of samples')\n",
    "plt.ylabel('number of samples')\n",
    "plt.show()\n",
    "\n",
    "plt.title('Text')\n",
    "plt.hist(text_len, bins = 40)\n",
    "plt.xlabel('length of samples')\n",
    "plt.ylabel('number of samples')\n",
    "plt.show()"
   ]
  },
  {
   "cell_type": "code",
   "execution_count": 19,
   "id": "1035b8bf",
   "metadata": {},
   "outputs": [
    {
     "name": "stdout",
     "output_type": "stream",
     "text": [
      "=3\n"
     ]
    }
   ],
   "source": [
    "# 텍스트의 적절한 길이 정해보기\n",
    "text_max_len = 45\n",
    "headlines_max_len = 10\n",
    "print('=3')"
   ]
  },
  {
   "cell_type": "code",
   "execution_count": 20,
   "id": "379f4a78",
   "metadata": {},
   "outputs": [
    {
     "name": "stdout",
     "output_type": "stream",
     "text": [
      "=3\n"
     ]
    }
   ],
   "source": [
    "def below_threshold_len(max_len, nested_list):\n",
    "  cnt = 0\n",
    "  for s in nested_list:\n",
    "    if(len(s.split()) <= max_len):\n",
    "        cnt = cnt + 1\n",
    "  print('전체 샘플 중 길이가 %s 이하인 샘플의 비율: %s'%(max_len, (cnt / len(nested_list))))\n",
    "print('=3')"
   ]
  },
  {
   "cell_type": "code",
   "execution_count": 21,
   "id": "95e68852",
   "metadata": {},
   "outputs": [],
   "source": [
    "def below_threshold_len(max_len, nested_list):\n",
    "  cnt = 0\n",
    "  for s in nested_list:\n",
    "    if(len(s.split()) <= max_len):\n",
    "        cnt = cnt + 1\n",
    "  print('전체 샘플 중 길이가 %s 이하인 샘플의 비율: %s'%(max_len, (cnt / len(nested_list))))"
   ]
  },
  {
   "cell_type": "code",
   "execution_count": 22,
   "id": "a29b4e4f",
   "metadata": {},
   "outputs": [
    {
     "name": "stdout",
     "output_type": "stream",
     "text": [
      "전체 샘플 중 길이가 45 이하인 샘플의 비율: 0.9967784880234957\n",
      "전체 샘플 중 길이가 10 이하인 샘플의 비율: 0.8162823548541174\n"
     ]
    }
   ],
   "source": [
    "below_threshold_len(text_max_len, data['text'])\n",
    "below_threshold_len(headlines_max_len,  data['headlines'])"
   ]
  },
  {
   "cell_type": "code",
   "execution_count": 23,
   "id": "ec2eb5e1",
   "metadata": {},
   "outputs": [
    {
     "name": "stdout",
     "output_type": "stream",
     "text": [
      "전체 샘플수 : 80081\n"
     ]
    }
   ],
   "source": [
    "data = data[data['text'].apply(lambda x: len(x.split()) <= text_max_len)]\n",
    "data = data[data['headlines'].apply(lambda x: len(x.split()) <= headlines_max_len)]\n",
    "print('전체 샘플수 :', (len(data)))"
   ]
  },
  {
   "cell_type": "code",
   "execution_count": 24,
   "id": "38e675d5",
   "metadata": {},
   "outputs": [
    {
     "data": {
      "text/html": [
       "<div>\n",
       "<style scoped>\n",
       "    .dataframe tbody tr th:only-of-type {\n",
       "        vertical-align: middle;\n",
       "    }\n",
       "\n",
       "    .dataframe tbody tr th {\n",
       "        vertical-align: top;\n",
       "    }\n",
       "\n",
       "    .dataframe thead th {\n",
       "        text-align: right;\n",
       "    }\n",
       "</style>\n",
       "<table border=\"1\" class=\"dataframe\">\n",
       "  <thead>\n",
       "    <tr style=\"text-align: right;\">\n",
       "      <th></th>\n",
       "      <th>headlines</th>\n",
       "      <th>text</th>\n",
       "      <th>decoder_input</th>\n",
       "      <th>decoder_target</th>\n",
       "    </tr>\n",
       "  </thead>\n",
       "  <tbody>\n",
       "    <tr>\n",
       "      <th>2</th>\n",
       "      <td>new zealand end rohit sharma led india match w...</td>\n",
       "      <td>new zealand defeated india wickets fourth odi ...</td>\n",
       "      <td>sostoken new zealand defeated india wickets fo...</td>\n",
       "      <td>new zealand defeated india wickets fourth odi ...</td>\n",
       "    </tr>\n",
       "    <tr>\n",
       "      <th>3</th>\n",
       "      <td>aegon life iterm insurance plan helps customer...</td>\n",
       "      <td>aegon life iterm insurance plan customers enjo...</td>\n",
       "      <td>sostoken aegon life iterm insurance plan custo...</td>\n",
       "      <td>aegon life iterm insurance plan customers enjo...</td>\n",
       "    </tr>\n",
       "    <tr>\n",
       "      <th>5</th>\n",
       "      <td>rahat fateh ali khan denies getting notice for...</td>\n",
       "      <td>pakistani singer rahat fateh ali khan denied r...</td>\n",
       "      <td>sostoken pakistani singer rahat fateh ali khan...</td>\n",
       "      <td>pakistani singer rahat fateh ali khan denied r...</td>\n",
       "    </tr>\n",
       "    <tr>\n",
       "      <th>9</th>\n",
       "      <td>cong wins ramgarh bypoll in rajasthan takes to...</td>\n",
       "      <td>congress candidate shafia zubair ramgarh assem...</td>\n",
       "      <td>sostoken congress candidate shafia zubair ramg...</td>\n",
       "      <td>congress candidate shafia zubair ramgarh assem...</td>\n",
       "    </tr>\n",
       "    <tr>\n",
       "      <th>10</th>\n",
       "      <td>up cousins fed human excreta for friendship wi...</td>\n",
       "      <td>two minor cousins uttar pradesh gorakhpur alle...</td>\n",
       "      <td>sostoken two minor cousins uttar pradesh gorak...</td>\n",
       "      <td>two minor cousins uttar pradesh gorakhpur alle...</td>\n",
       "    </tr>\n",
       "  </tbody>\n",
       "</table>\n",
       "</div>"
      ],
      "text/plain": [
       "                                            headlines  \\\n",
       "2   new zealand end rohit sharma led india match w...   \n",
       "3   aegon life iterm insurance plan helps customer...   \n",
       "5   rahat fateh ali khan denies getting notice for...   \n",
       "9   cong wins ramgarh bypoll in rajasthan takes to...   \n",
       "10  up cousins fed human excreta for friendship wi...   \n",
       "\n",
       "                                                 text  \\\n",
       "2   new zealand defeated india wickets fourth odi ...   \n",
       "3   aegon life iterm insurance plan customers enjo...   \n",
       "5   pakistani singer rahat fateh ali khan denied r...   \n",
       "9   congress candidate shafia zubair ramgarh assem...   \n",
       "10  two minor cousins uttar pradesh gorakhpur alle...   \n",
       "\n",
       "                                        decoder_input  \\\n",
       "2   sostoken new zealand defeated india wickets fo...   \n",
       "3   sostoken aegon life iterm insurance plan custo...   \n",
       "5   sostoken pakistani singer rahat fateh ali khan...   \n",
       "9   sostoken congress candidate shafia zubair ramg...   \n",
       "10  sostoken two minor cousins uttar pradesh gorak...   \n",
       "\n",
       "                                       decoder_target  \n",
       "2   new zealand defeated india wickets fourth odi ...  \n",
       "3   aegon life iterm insurance plan customers enjo...  \n",
       "5   pakistani singer rahat fateh ali khan denied r...  \n",
       "9   congress candidate shafia zubair ramgarh assem...  \n",
       "10  two minor cousins uttar pradesh gorakhpur alle...  "
      ]
     },
     "execution_count": 24,
     "metadata": {},
     "output_type": "execute_result"
    }
   ],
   "source": [
    "# 텍스트 데이터에 시작 토큰과 종료 토큰을 추가한다.\n",
    "data['decoder_input'] = data['text'].apply(lambda x : 'sostoken '+ x)\n",
    "data['decoder_target'] = data['text'].apply(lambda x : x + ' eostoken')\n",
    "data.head()\n",
    "\n",
    "# 디코더의 입력에 해당하면서 시작 토큰이 맨 앞에 있는 문장의 이름을 decoder_input, \n",
    "# 디코더의 출력 또는 레이블에 해당되면서 종료 토큰이 맨 뒤에 붙는 문장의 이름을 decoder_target"
   ]
  },
  {
   "cell_type": "code",
   "execution_count": 25,
   "id": "92885985",
   "metadata": {},
   "outputs": [
    {
     "name": "stdout",
     "output_type": "stream",
     "text": [
      "=3\n"
     ]
    }
   ],
   "source": [
    "#  인코더의 입력, 디코더의 입력과 레이블을 각각 다시 Numpy 타입으로 저장\n",
    "encoder_input = np.array(data['text']) # 인코더의 입력\n",
    "decoder_input = np.array(data['decoder_input']) # 디코더의 입력\n",
    "decoder_target = np.array(data['decoder_target']) # 디코더의 레이블\n",
    "print('=3')"
   ]
  },
  {
   "cell_type": "code",
   "execution_count": 26,
   "id": "e663733c",
   "metadata": {},
   "outputs": [
    {
     "name": "stdout",
     "output_type": "stream",
     "text": [
      "[43122 26359  7715 ... 43600 73980 48666]\n"
     ]
    }
   ],
   "source": [
    "# 훈련 데이터와 테스트 데이터를 분리하는 방법은 분리 패키지를 사용하는 방법, 또는 직접 코딩을 통해서 분리하는 방법 등 여러 가지 방법이 있는데,\n",
    "# 여기서는 직접 해보기. 우선, encoder_input과 크기와 형태가 같은 순서가 섞인 정수 시퀀스를 만들어주기.\n",
    "\n",
    "indices = np.arange(encoder_input.shape[0])\n",
    "np.random.shuffle(indices)\n",
    "print(indices)"
   ]
  },
  {
   "cell_type": "code",
   "execution_count": 27,
   "id": "19916e38",
   "metadata": {},
   "outputs": [
    {
     "name": "stdout",
     "output_type": "stream",
     "text": [
      "=3\n"
     ]
    }
   ],
   "source": [
    "# 정수 시퀀스를 이용해 다시 데이터의 샘플 순서를 정의해 주면 잘 섞인 샘플이 된다.\n",
    "encoder_input = encoder_input[indices]\n",
    "decoder_input = decoder_input[indices]\n",
    "decoder_target = decoder_target[indices]\n",
    "print('=3')"
   ]
  },
  {
   "cell_type": "code",
   "execution_count": 28,
   "id": "8550fb9a",
   "metadata": {},
   "outputs": [
    {
     "name": "stdout",
     "output_type": "stream",
     "text": [
      "테스트 데이터의 수 : 16016\n"
     ]
    }
   ],
   "source": [
    "# 섞인 데이터를 8:2의 비율로 훈련 데이터와 테스트 데이터로 분리\n",
    "n_of_val = int(len(encoder_input)*0.2)\n",
    "print('테스트 데이터의 수 :', n_of_val)"
   ]
  },
  {
   "cell_type": "code",
   "execution_count": 29,
   "id": "be0a13df",
   "metadata": {},
   "outputs": [
    {
     "name": "stdout",
     "output_type": "stream",
     "text": [
      "훈련 데이터의 개수 : 64065\n",
      "훈련 레이블의 개수 : 64065\n",
      "테스트 데이터의 개수 : 16016\n",
      "테스트 레이블의 개수 : 16016\n"
     ]
    }
   ],
   "source": [
    "# 이렇게 정의한 테스트 데이터의 개수를 이용해 전체 데이터를 양분할게요. :표시의 위치에 주의\n",
    "encoder_input_train = encoder_input[:-n_of_val]\n",
    "decoder_input_train = decoder_input[:-n_of_val]\n",
    "decoder_target_train = decoder_target[:-n_of_val]\n",
    "\n",
    "encoder_input_test = encoder_input[-n_of_val:]\n",
    "decoder_input_test = decoder_input[-n_of_val:]\n",
    "decoder_target_test = decoder_target[-n_of_val:]\n",
    "\n",
    "print('훈련 데이터의 개수 :', len(encoder_input_train))\n",
    "print('훈련 레이블의 개수 :', len(decoder_input_train))\n",
    "print('테스트 데이터의 개수 :', len(encoder_input_test))\n",
    "print('테스트 레이블의 개수 :', len(decoder_input_test))"
   ]
  },
  {
   "cell_type": "code",
   "execution_count": 30,
   "id": "73904432",
   "metadata": {},
   "outputs": [
    {
     "name": "stdout",
     "output_type": "stream",
     "text": [
      "=3\n"
     ]
    }
   ],
   "source": [
    "# 입력된 훈련 데이터로부터 단어 집합을 만들기\n",
    "src_tokenizer = Tokenizer() # 토크나이저 정의\n",
    "src_tokenizer.fit_on_texts(encoder_input_train) # 입력된 데이터로부터 단어 집합 생성\n",
    "print('=3')\n",
    "# 단어 집합이 생성되는 동시에 각 단어에 고유한 정수가 부여, 현재 생성된 단어 집합은 src_tokenizer.word_index에 저장"
   ]
  },
  {
   "cell_type": "code",
   "execution_count": 31,
   "id": "01815292",
   "metadata": {},
   "outputs": [
    {
     "name": "stdout",
     "output_type": "stream",
     "text": [
      "단어 집합(vocabulary)의 크기 : 64850\n",
      "등장 빈도가 6번 이하인 희귀 단어의 수: 44512\n",
      "단어 집합에서 희귀 단어를 제외시킬 경우의 단어 집합의 크기 20338\n",
      "단어 집합에서 희귀 단어의 비율: 68.63839629915189\n",
      "전체 등장 빈도에서 희귀 단어 등장 빈도 비율: 4.006555818844426\n"
     ]
    }
   ],
   "source": [
    "threshold = 7\n",
    "total_cnt = len(src_tokenizer.word_index) # 단어의 수\n",
    "rare_cnt = 0 # 등장 빈도수가 threshold보다 작은 단어의 개수를 카운트\n",
    "total_freq = 0 # 훈련 데이터의 전체 단어 빈도수 총 합\n",
    "rare_freq = 0 # 등장 빈도수가 threshold보다 작은 단어의 등장 빈도수의 총 합\n",
    "\n",
    "# 단어와 빈도수의 쌍(pair)을 key와 value로 받는다.\n",
    "for key, value in src_tokenizer.word_counts.items():\n",
    "    total_freq = total_freq + value\n",
    "\n",
    "    # 단어의 등장 빈도수가 threshold보다 작으면\n",
    "    if(value < threshold):\n",
    "        rare_cnt = rare_cnt + 1\n",
    "        rare_freq = rare_freq + value\n",
    "\n",
    "print('단어 집합(vocabulary)의 크기 :', total_cnt)\n",
    "print('등장 빈도가 %s번 이하인 희귀 단어의 수: %s'%(threshold - 1, rare_cnt))\n",
    "print('단어 집합에서 희귀 단어를 제외시킬 경우의 단어 집합의 크기 %s'%(total_cnt - rare_cnt))\n",
    "print(\"단어 집합에서 희귀 단어의 비율:\", (rare_cnt / total_cnt)*100)\n",
    "print(\"전체 등장 빈도에서 희귀 단어 등장 빈도 비율:\", (rare_freq / total_freq)*100)"
   ]
  },
  {
   "cell_type": "markdown",
   "id": "e2b40203",
   "metadata": {},
   "source": [
    "### 등장 빈도가 threshold 값인 7회 미만, 즉 6회 이하인 단어들은 단어 집합에서 69% 정도 차지. 하지만 실제로 훈련 데이터에서 등장 빈도로 차지하는 비중은 상대적으로 적은 수치인 4.01%밖에 되지 않는다.\n",
    "\n",
    "### 그래서 등장 빈도가 6회 이하인 단어들은 정수 인코딩 과정에서 빼고, 훈련 데이터에서 제거하고자 한다. 위에서 이를 제외한 단어 집합의 크기를 2만여 개로 계산했는데, 이와 비슷한 값으로 어림잡아 단어 집합의 크기를 20,000으로 제한한다. 토크나이저를 정의할 때 num_words의 값을 정해주면, 단어 집합의 크기를 제한할 수 있다."
   ]
  },
  {
   "cell_type": "code",
   "execution_count": 32,
   "id": "2f04c6c9",
   "metadata": {},
   "outputs": [
    {
     "name": "stdout",
     "output_type": "stream",
     "text": [
      "=3\n"
     ]
    }
   ],
   "source": [
    "#text 데이터에 대해서도 수행\n",
    "src_vocab = 20000\n",
    "src_tokenizer = Tokenizer(num_words=src_vocab) # 단어 집합의 크기를 20,000으로 제한\n",
    "src_tokenizer.fit_on_texts(encoder_input_train) # 단어 집합 재생성\n",
    "print('=3')"
   ]
  },
  {
   "cell_type": "code",
   "execution_count": 33,
   "id": "5fb21458",
   "metadata": {},
   "outputs": [
    {
     "name": "stdout",
     "output_type": "stream",
     "text": [
      "[[887, 3152, 895, 1767, 1683, 9164, 1837, 1113, 507, 6645, 3705, 3353, 2, 611, 327, 9368, 5438, 2809, 3353, 304, 15987, 614, 130, 1353, 2176, 2105, 9164, 1837, 13985, 151, 2328, 4353], [2, 3, 15, 4090, 15988, 18970, 516, 2399, 4125, 1965, 552, 91, 206, 5904, 299, 4949, 2350, 346, 8290, 558, 18970, 874, 411, 2551, 18971, 2610, 5, 346, 2060, 12437, 2836, 19, 246, 12437, 2836, 19, 1947], [21, 430, 3270, 3015, 62, 450, 261, 890, 678, 5824, 458, 461, 2375, 5905, 21, 17837, 214, 67, 139, 1345, 11, 206, 1841, 143, 114, 26, 1543, 896, 214, 26, 4]]\n"
     ]
    }
   ],
   "source": [
    "# 텍스트 시퀀스를 정수 시퀀스로 변환\n",
    "encoder_input_train = src_tokenizer.texts_to_sequences(encoder_input_train) \n",
    "encoder_input_test = src_tokenizer.texts_to_sequences(encoder_input_test)\n",
    "\n",
    "# 잘 진행되었는지 샘플 출력\n",
    "print(encoder_input_train[:3])"
   ]
  },
  {
   "cell_type": "code",
   "execution_count": 34,
   "id": "c261a773",
   "metadata": {},
   "outputs": [],
   "source": [
    "#headlines 데이터에 대해서 수행\n",
    "tar_tokenizer = Tokenizer()\n",
    "tar_tokenizer.fit_on_texts(decoder_input_train)"
   ]
  },
  {
   "cell_type": "code",
   "execution_count": 35,
   "id": "77ee6aea",
   "metadata": {},
   "outputs": [
    {
     "name": "stdout",
     "output_type": "stream",
     "text": [
      "단어 집합(vocabulary)의 크기 : 64851\n",
      "등장 빈도가 7번 이하인 희귀 단어의 수: 45881\n",
      "단어 집합에서 희귀 단어를 제외시킬 경우의 단어 집합의 크기 18970\n",
      "단어 집합에서 희귀 단어의 비율: 70.7483307890395\n",
      "전체 등장 빈도에서 희귀 단어 등장 빈도 비율: 4.309565968473332\n"
     ]
    }
   ],
   "source": [
    "threshold = 8\n",
    "total_cnt = len(tar_tokenizer.word_index) # 단어의 수\n",
    "rare_cnt = 0 # 등장 빈도수가 threshold보다 작은 단어의 개수를 카운트\n",
    "total_freq = 0 # 훈련 데이터의 전체 단어 빈도수 총 합\n",
    "rare_freq = 0 # 등장 빈도수가 threshold보다 작은 단어의 등장 빈도수의 총 합\n",
    "\n",
    "# 단어와 빈도수의 쌍(pair)을 key와 value로 받는다.\n",
    "for key, value in tar_tokenizer.word_counts.items():\n",
    "    total_freq = total_freq + value\n",
    "\n",
    "    # 단어의 등장 빈도수가 threshold보다 작으면\n",
    "    if(value < threshold):\n",
    "        rare_cnt = rare_cnt + 1\n",
    "        rare_freq = rare_freq + value\n",
    "\n",
    "print('단어 집합(vocabulary)의 크기 :', total_cnt)\n",
    "print('등장 빈도가 %s번 이하인 희귀 단어의 수: %s'%(threshold - 1, rare_cnt))\n",
    "print('단어 집합에서 희귀 단어를 제외시킬 경우의 단어 집합의 크기 %s'%(total_cnt - rare_cnt))\n",
    "print(\"단어 집합에서 희귀 단어의 비율:\", (rare_cnt / total_cnt)*100)\n",
    "print(\"전체 등장 빈도에서 희귀 단어 등장 빈도 비율:\", (rare_freq / total_freq)*100)"
   ]
  },
  {
   "cell_type": "markdown",
   "id": "de8e45ec",
   "metadata": {},
   "source": [
    "### 등장 빈도가 threshold 값인 8회 미만, 즉 7회 이하인 단어들은 단어 집합에서 71% 정도 차지. 하지만 실제로 훈련 데이터에서 등장 빈도로 차지하는 비중은 상대적으로 적은 수치인 4.31%밖에 되지 않는다.\n",
    "\n",
    "### 그래서 등장 빈도가 7회 이하인 단어들은 정수 인코딩 과정에서 빼고, 훈련 데이터에서 제거하한다. 위에서 이를 제외한 단어 집합의 크기를 18970개로 계산했는데, 이와 비슷한 값으로 어림잡아 단어 집합의 크기를 18,000으로 제한한다."
   ]
  },
  {
   "cell_type": "code",
   "execution_count": 36,
   "id": "b5ee692f",
   "metadata": {},
   "outputs": [
    {
     "name": "stdout",
     "output_type": "stream",
     "text": [
      "input\n",
      "input  [[2, 889, 3154, 897, 1769, 1685, 9166, 1839, 1115, 509, 6647, 3707, 3355, 4, 613, 329, 9370, 5440, 2811, 3355, 306, 15989, 616, 132, 1355, 2178, 2107, 9166, 1839, 13987, 153, 2330, 4355], [2, 4, 5, 17, 4092, 15990, 518, 2401, 4127, 1967, 554, 93, 208, 5906, 301, 4951, 2352, 348, 8292, 560, 876, 413, 2553, 2612, 7, 348, 2062, 12439, 2838, 21, 248, 12439, 2838, 21, 1949], [2, 23, 432, 3272, 3017, 64, 452, 263, 892, 680, 5826, 460, 463, 2377, 5907, 23, 17839, 216, 69, 141, 1347, 13, 208, 1843, 145, 116, 28, 1545, 898, 216, 28, 6], [2, 428, 16835, 470, 5155, 106, 11, 213, 1508, 30, 162, 22, 7438, 938, 4997, 8449, 8293, 859, 1679, 86, 8617, 12912, 10034, 2513, 6363, 16835, 101, 22, 161, 16836, 1077, 3299, 598, 193, 6298, 1023, 110, 8, 4952, 54, 562, 113, 5505], [2, 2931, 4, 2502, 457, 1680, 2931, 50, 545, 20, 2738, 1680, 50, 1977, 58, 1062, 597, 4, 61, 116, 2738, 498, 877, 2931, 291, 61, 746, 1680, 751, 2931, 4]]\n",
      "target\n",
      "decoder  [[889, 3154, 897, 1769, 1685, 9166, 1839, 1115, 509, 6647, 3707, 3355, 4, 613, 329, 9370, 5440, 2811, 3355, 306, 15989, 616, 132, 1355, 2178, 2107, 9166, 1839, 13987, 153, 2330, 4355, 3], [4, 5, 17, 4092, 15990, 518, 2401, 4127, 1967, 554, 93, 208, 5906, 301, 4951, 2352, 348, 8292, 560, 876, 413, 2553, 2612, 7, 348, 2062, 12439, 2838, 21, 248, 12439, 2838, 21, 1949, 3], [23, 432, 3272, 3017, 64, 452, 263, 892, 680, 5826, 460, 463, 2377, 5907, 23, 17839, 216, 69, 141, 1347, 13, 208, 1843, 145, 116, 28, 1545, 898, 216, 28, 6, 3], [428, 16835, 470, 5155, 106, 11, 213, 1508, 30, 162, 22, 7438, 938, 4997, 8449, 8293, 859, 1679, 86, 8617, 12912, 10034, 2513, 6363, 16835, 101, 22, 161, 16836, 1077, 3299, 598, 193, 6298, 1023, 110, 8, 4952, 54, 562, 113, 5505, 3], [2931, 4, 2502, 457, 1680, 2931, 50, 545, 20, 2738, 1680, 50, 1977, 58, 1062, 597, 4, 61, 116, 2738, 498, 877, 2931, 291, 61, 746, 1680, 751, 2931, 4, 3]]\n"
     ]
    }
   ],
   "source": [
    "tar_vocab = 18000\n",
    "tar_tokenizer = Tokenizer(num_words=tar_vocab) \n",
    "tar_tokenizer.fit_on_texts(decoder_input_train)\n",
    "tar_tokenizer.fit_on_texts(decoder_target_train)\n",
    "\n",
    "# 텍스트 시퀀스를 정수 시퀀스로 변환\n",
    "decoder_input_train = tar_tokenizer.texts_to_sequences(decoder_input_train) \n",
    "decoder_target_train = tar_tokenizer.texts_to_sequences(decoder_target_train)\n",
    "decoder_input_test = tar_tokenizer.texts_to_sequences(decoder_input_test)\n",
    "decoder_target_test = tar_tokenizer.texts_to_sequences(decoder_target_test)\n",
    "\n",
    "# 잘 변환되었는지 확인\n",
    "print('input')\n",
    "print('input ',decoder_input_train[:5])\n",
    "print('target')\n",
    "print('decoder ',decoder_target_train[:5])"
   ]
  },
  {
   "cell_type": "code",
   "execution_count": 37,
   "id": "1069f346",
   "metadata": {},
   "outputs": [
    {
     "name": "stdout",
     "output_type": "stream",
     "text": [
      "삭제할 훈련 데이터의 개수 : 0\n",
      "삭제할 테스트 데이터의 개수 : 0\n",
      "훈련 데이터의 개수 : 64065\n",
      "훈련 레이블의 개수 : 64065\n",
      "테스트 데이터의 개수 : 16016\n",
      "테스트 레이블의 개수 : 16016\n"
     ]
    }
   ],
   "source": [
    "drop_train = [index for index, sentence in enumerate(decoder_input_train) if len(sentence) == 1]\n",
    "drop_test = [index for index, sentence in enumerate(decoder_input_test) if len(sentence) == 1]\n",
    "\n",
    "print('삭제할 훈련 데이터의 개수 :', len(drop_train))\n",
    "print('삭제할 테스트 데이터의 개수 :', len(drop_test))\n",
    "\n",
    "encoder_input_train = [sentence for index, sentence in enumerate(encoder_input_train) if index not in drop_train]\n",
    "decoder_input_train = [sentence for index, sentence in enumerate(decoder_input_train) if index not in drop_train]\n",
    "decoder_target_train = [sentence for index, sentence in enumerate(decoder_target_train) if index not in drop_train]\n",
    "\n",
    "encoder_input_test = [sentence for index, sentence in enumerate(encoder_input_test) if index not in drop_test]\n",
    "decoder_input_test = [sentence for index, sentence in enumerate(decoder_input_test) if index not in drop_test]\n",
    "decoder_target_test = [sentence for index, sentence in enumerate(decoder_target_test) if index not in drop_test]\n",
    "\n",
    "print('훈련 데이터의 개수 :', len(encoder_input_train))\n",
    "print('훈련 레이블의 개수 :', len(decoder_input_train))\n",
    "print('테스트 데이터의 개수 :', len(encoder_input_test))\n",
    "print('테스트 레이블의 개수 :', len(decoder_input_test))"
   ]
  },
  {
   "cell_type": "code",
   "execution_count": 39,
   "id": "0453fee5",
   "metadata": {},
   "outputs": [],
   "source": [
    "# 패딩\n",
    "encoder_input_train = pad_sequences(encoder_input_train, maxlen=text_max_len, padding='post')\n",
    "encoder_input_test = pad_sequences(encoder_input_test, maxlen=text_max_len, padding='post')\n",
    "decoder_input_train = pad_sequences(decoder_input_train, maxlen=headlines_max_len, padding='post')\n",
    "decoder_target_train = pad_sequences(decoder_target_train, maxlen=headlines_max_len, padding='post')\n",
    "decoder_input_test = pad_sequences(decoder_input_test, maxlen=headlines_max_len, padding='post')\n",
    "decoder_target_test = pad_sequences(decoder_target_test, maxlen=headlines_max_len, padding='post')"
   ]
  },
  {
   "cell_type": "markdown",
   "id": "07c5cc5b",
   "metadata": {},
   "source": [
    "## 모델설계하기 : 기본적인 seq2seq"
   ]
  },
  {
   "cell_type": "code",
   "execution_count": 40,
   "id": "1b9394b7",
   "metadata": {},
   "outputs": [
    {
     "name": "stdout",
     "output_type": "stream",
     "text": [
      "WARNING:tensorflow:Layer lstm will not use cuDNN kernels since it doesn't meet the criteria. It will use a generic GPU kernel as fallback when running on GPU.\n",
      "WARNING:tensorflow:Layer lstm_1 will not use cuDNN kernels since it doesn't meet the criteria. It will use a generic GPU kernel as fallback when running on GPU.\n",
      "WARNING:tensorflow:Layer lstm_2 will not use cuDNN kernels since it doesn't meet the criteria. It will use a generic GPU kernel as fallback when running on GPU.\n"
     ]
    }
   ],
   "source": [
    "\n",
    "from tensorflow.keras.layers import Input, LSTM, Embedding, Dense, Concatenate, TimeDistributed\n",
    "from tensorflow.keras.models import Model\n",
    "from tensorflow.keras.callbacks import EarlyStopping, ModelCheckpoint\n",
    "\n",
    "\n",
    "# 인코더 설계 시작\n",
    "embedding_dim = 128\n",
    "hidden_size = 256\n",
    "\n",
    "# 인코더\n",
    "encoder_inputs = Input(shape=(text_max_len,))\n",
    "\n",
    "# 인코더의 임베딩 층\n",
    "enc_emb = Embedding(src_vocab, embedding_dim)(encoder_inputs)\n",
    "\n",
    "# 인코더의 LSTM 1\n",
    "encoder_lstm1 = LSTM(hidden_size, return_sequences=True, return_state=True ,dropout = 0.4, recurrent_dropout = 0.4)\n",
    "encoder_output1, state_h1, state_c1 = encoder_lstm1(enc_emb)\n",
    "\n",
    "# 인코더의 LSTM 2\n",
    "encoder_lstm2 = LSTM(hidden_size, return_sequences=True, return_state=True, dropout=0.4, recurrent_dropout=0.4)\n",
    "encoder_output2, state_h2, state_c2 = encoder_lstm2(encoder_output1)\n",
    "\n",
    "# 인코더의 LSTM 3\n",
    "encoder_lstm3 = LSTM(hidden_size, return_state=True, return_sequences=True, dropout=0.4, recurrent_dropout=0.4)\n",
    "encoder_outputs, state_h, state_c= encoder_lstm3(encoder_output2)"
   ]
  },
  {
   "cell_type": "code",
   "execution_count": 41,
   "id": "150b6921",
   "metadata": {},
   "outputs": [
    {
     "name": "stdout",
     "output_type": "stream",
     "text": [
      "WARNING:tensorflow:Layer lstm_3 will not use cuDNN kernels since it doesn't meet the criteria. It will use a generic GPU kernel as fallback when running on GPU.\n"
     ]
    }
   ],
   "source": [
    "# 모델 설계하기1.  기본적인 seq2seq\n",
    "# 디코더 설계\n",
    "decoder_inputs = Input(shape=(None,))\n",
    "\n",
    "# 디코더의 임베딩 층\n",
    "dec_emb_layer = Embedding(tar_vocab, embedding_dim)\n",
    "dec_emb = dec_emb_layer(decoder_inputs)\n",
    "\n",
    "# 디코더의 LSTM\n",
    "decoder_lstm = LSTM(hidden_size, return_sequences=True, return_state=True, dropout=0.4, recurrent_dropout=0.2)\n",
    "decoder_outputs, _, _ = decoder_lstm(dec_emb, initial_state=[state_h, state_c])"
   ]
  },
  {
   "cell_type": "code",
   "execution_count": 42,
   "id": "e1f637f3",
   "metadata": {},
   "outputs": [
    {
     "name": "stdout",
     "output_type": "stream",
     "text": [
      "Model: \"model\"\n",
      "__________________________________________________________________________________________________\n",
      "Layer (type)                    Output Shape         Param #     Connected to                     \n",
      "==================================================================================================\n",
      "input_1 (InputLayer)            [(None, 45)]         0                                            \n",
      "__________________________________________________________________________________________________\n",
      "embedding (Embedding)           (None, 45, 128)      2560000     input_1[0][0]                    \n",
      "__________________________________________________________________________________________________\n",
      "lstm (LSTM)                     [(None, 45, 256), (N 394240      embedding[0][0]                  \n",
      "__________________________________________________________________________________________________\n",
      "input_2 (InputLayer)            [(None, None)]       0                                            \n",
      "__________________________________________________________________________________________________\n",
      "lstm_1 (LSTM)                   [(None, 45, 256), (N 525312      lstm[0][0]                       \n",
      "__________________________________________________________________________________________________\n",
      "embedding_1 (Embedding)         (None, None, 128)    2304000     input_2[0][0]                    \n",
      "__________________________________________________________________________________________________\n",
      "lstm_2 (LSTM)                   [(None, 45, 256), (N 525312      lstm_1[0][0]                     \n",
      "__________________________________________________________________________________________________\n",
      "lstm_3 (LSTM)                   [(None, None, 256),  394240      embedding_1[0][0]                \n",
      "                                                                 lstm_2[0][1]                     \n",
      "                                                                 lstm_2[0][2]                     \n",
      "__________________________________________________________________________________________________\n",
      "dense (Dense)                   (None, None, 18000)  4626000     lstm_3[0][0]                     \n",
      "==================================================================================================\n",
      "Total params: 11,329,104\n",
      "Trainable params: 11,329,104\n",
      "Non-trainable params: 0\n",
      "__________________________________________________________________________________________________\n"
     ]
    }
   ],
   "source": [
    "# 디코더의 출력층\n",
    "decoder_softmax_layer = Dense(tar_vocab, activation='softmax')\n",
    "decoder_softmax_outputs = decoder_softmax_layer(decoder_outputs) \n",
    "\n",
    "# 모델 정의\n",
    "model = Model([encoder_inputs, decoder_inputs], decoder_softmax_outputs)\n",
    "model.summary()"
   ]
  },
  {
   "cell_type": "markdown",
   "id": "fec8233d",
   "metadata": {},
   "source": [
    "## step3 :  seq2seq에 Attention mechanism활용"
   ]
  },
  {
   "cell_type": "code",
   "execution_count": 43,
   "id": "a7093796",
   "metadata": {},
   "outputs": [
    {
     "name": "stdout",
     "output_type": "stream",
     "text": [
      "Model: \"model_1\"\n",
      "__________________________________________________________________________________________________\n",
      "Layer (type)                    Output Shape         Param #     Connected to                     \n",
      "==================================================================================================\n",
      "input_1 (InputLayer)            [(None, 45)]         0                                            \n",
      "__________________________________________________________________________________________________\n",
      "embedding (Embedding)           (None, 45, 128)      2560000     input_1[0][0]                    \n",
      "__________________________________________________________________________________________________\n",
      "lstm (LSTM)                     [(None, 45, 256), (N 394240      embedding[0][0]                  \n",
      "__________________________________________________________________________________________________\n",
      "input_2 (InputLayer)            [(None, None)]       0                                            \n",
      "__________________________________________________________________________________________________\n",
      "lstm_1 (LSTM)                   [(None, 45, 256), (N 525312      lstm[0][0]                       \n",
      "__________________________________________________________________________________________________\n",
      "embedding_1 (Embedding)         (None, None, 128)    2304000     input_2[0][0]                    \n",
      "__________________________________________________________________________________________________\n",
      "lstm_2 (LSTM)                   [(None, 45, 256), (N 525312      lstm_1[0][0]                     \n",
      "__________________________________________________________________________________________________\n",
      "lstm_3 (LSTM)                   [(None, None, 256),  394240      embedding_1[0][0]                \n",
      "                                                                 lstm_2[0][1]                     \n",
      "                                                                 lstm_2[0][2]                     \n",
      "__________________________________________________________________________________________________\n",
      "attention_layer (AdditiveAttent (None, None, 256)    256         lstm_3[0][0]                     \n",
      "                                                                 lstm_2[0][0]                     \n",
      "__________________________________________________________________________________________________\n",
      "concat_layer (Concatenate)      (None, None, 512)    0           lstm_3[0][0]                     \n",
      "                                                                 attention_layer[0][0]            \n",
      "__________________________________________________________________________________________________\n",
      "dense_1 (Dense)                 (None, None, 18000)  9234000     concat_layer[0][0]               \n",
      "==================================================================================================\n",
      "Total params: 15,937,360\n",
      "Trainable params: 15,937,360\n",
      "Non-trainable params: 0\n",
      "__________________________________________________________________________________________________\n"
     ]
    }
   ],
   "source": [
    "\n",
    "from tensorflow.keras.layers import AdditiveAttention\n",
    "\n",
    "# 어텐션 층(어텐션 함수)\n",
    "attn_layer = AdditiveAttention(name='attention_layer')\n",
    "\n",
    "# 인코더와 디코더의 모든 time step의 hidden state를 어텐션 층에 전달하고 결과를 리턴\n",
    "attn_out = attn_layer([decoder_outputs, encoder_outputs])\n",
    "\n",
    "\n",
    "# 어텐션의 결과와 디코더의 hidden state들을 연결\n",
    "decoder_concat_input = Concatenate(axis=-1, name='concat_layer')([decoder_outputs, attn_out])\n",
    "\n",
    "# 디코더의 출력층\n",
    "decoder_softmax_layer = Dense(tar_vocab, activation='softmax')\n",
    "decoder_softmax_outputs = decoder_softmax_layer(decoder_concat_input)\n",
    "\n",
    "# 모델 정의\n",
    "model = Model([encoder_inputs, decoder_inputs], decoder_softmax_outputs)\n",
    "model.summary()"
   ]
  },
  {
   "cell_type": "code",
   "execution_count": 44,
   "id": "c981c8cd",
   "metadata": {},
   "outputs": [
    {
     "name": "stdout",
     "output_type": "stream",
     "text": [
      "Epoch 1/50\n",
      "251/251 [==============================] - 167s 631ms/step - loss: 7.6894 - val_loss: 7.4196\n",
      "Epoch 2/50\n",
      "251/251 [==============================] - 157s 624ms/step - loss: 7.3587 - val_loss: 7.2380\n",
      "Epoch 3/50\n",
      "251/251 [==============================] - 156s 623ms/step - loss: 7.1106 - val_loss: 6.9557\n",
      "Epoch 4/50\n",
      "251/251 [==============================] - 157s 624ms/step - loss: 6.8042 - val_loss: 6.7371\n",
      "Epoch 5/50\n",
      "251/251 [==============================] - 156s 623ms/step - loss: 6.4944 - val_loss: 6.4356\n",
      "Epoch 6/50\n",
      "251/251 [==============================] - 157s 624ms/step - loss: 6.1935 - val_loss: 6.1481\n",
      "Epoch 7/50\n",
      "251/251 [==============================] - 156s 621ms/step - loss: 5.9016 - val_loss: 5.8905\n",
      "Epoch 8/50\n",
      "251/251 [==============================] - 157s 623ms/step - loss: 5.6228 - val_loss: 5.6451\n",
      "Epoch 9/50\n",
      "251/251 [==============================] - 156s 623ms/step - loss: 5.3566 - val_loss: 5.4401\n",
      "Epoch 10/50\n",
      "251/251 [==============================] - 156s 621ms/step - loss: 5.1136 - val_loss: 5.1938\n",
      "Epoch 11/50\n",
      "251/251 [==============================] - 156s 621ms/step - loss: 4.8754 - val_loss: 4.9784\n",
      "Epoch 12/50\n",
      "251/251 [==============================] - 156s 621ms/step - loss: 4.6594 - val_loss: 4.7732\n",
      "Epoch 13/50\n",
      "251/251 [==============================] - 156s 621ms/step - loss: 4.4412 - val_loss: 4.6175\n",
      "Epoch 14/50\n",
      "251/251 [==============================] - 156s 621ms/step - loss: 4.2123 - val_loss: 4.3094\n",
      "Epoch 15/50\n",
      "251/251 [==============================] - 156s 621ms/step - loss: 3.9844 - val_loss: 4.0575\n",
      "Epoch 16/50\n",
      "251/251 [==============================] - 156s 622ms/step - loss: 3.7396 - val_loss: 3.7756\n",
      "Epoch 17/50\n",
      "251/251 [==============================] - 155s 619ms/step - loss: 3.4898 - val_loss: 3.4441\n",
      "Epoch 18/50\n",
      "251/251 [==============================] - 156s 621ms/step - loss: 3.2158 - val_loss: 3.0620\n",
      "Epoch 19/50\n",
      "251/251 [==============================] - 155s 618ms/step - loss: 2.9145 - val_loss: 2.7019\n",
      "Epoch 20/50\n",
      "251/251 [==============================] - 156s 620ms/step - loss: 2.5758 - val_loss: 2.2178\n",
      "Epoch 21/50\n",
      "251/251 [==============================] - 155s 619ms/step - loss: 2.2228 - val_loss: 1.9238\n",
      "Epoch 22/50\n",
      "251/251 [==============================] - 156s 622ms/step - loss: 1.9064 - val_loss: 1.6589\n",
      "Epoch 23/50\n",
      "251/251 [==============================] - 155s 619ms/step - loss: 1.7247 - val_loss: 1.6156\n",
      "Epoch 24/50\n",
      "251/251 [==============================] - 156s 622ms/step - loss: 1.6083 - val_loss: 1.4276\n",
      "Epoch 25/50\n",
      "251/251 [==============================] - 156s 622ms/step - loss: 1.5064 - val_loss: 1.3290\n",
      "Epoch 26/50\n",
      "251/251 [==============================] - 156s 623ms/step - loss: 1.3342 - val_loss: 1.3812\n",
      "Epoch 27/50\n",
      "251/251 [==============================] - 156s 622ms/step - loss: 1.2684 - val_loss: 1.1879\n",
      "Epoch 28/50\n",
      "251/251 [==============================] - 156s 623ms/step - loss: 1.2067 - val_loss: 1.1243\n",
      "Epoch 29/50\n",
      "251/251 [==============================] - 156s 623ms/step - loss: 1.1300 - val_loss: 1.0856\n",
      "Epoch 30/50\n",
      "251/251 [==============================] - 156s 623ms/step - loss: 1.0714 - val_loss: 1.0509\n",
      "Epoch 31/50\n",
      "251/251 [==============================] - 156s 621ms/step - loss: 1.0060 - val_loss: 0.9628\n",
      "Epoch 32/50\n",
      "251/251 [==============================] - 156s 622ms/step - loss: 0.9494 - val_loss: 0.9476\n",
      "Epoch 33/50\n",
      "251/251 [==============================] - 155s 619ms/step - loss: 0.8909 - val_loss: 0.8879\n",
      "Epoch 34/50\n",
      "251/251 [==============================] - 156s 622ms/step - loss: 0.8624 - val_loss: 0.8636\n",
      "Epoch 35/50\n",
      "251/251 [==============================] - 156s 623ms/step - loss: 0.8368 - val_loss: 0.8333\n",
      "Epoch 36/50\n",
      "251/251 [==============================] - 157s 627ms/step - loss: 0.7969 - val_loss: 0.7954\n",
      "Epoch 37/50\n",
      "251/251 [==============================] - 156s 623ms/step - loss: 0.7411 - val_loss: 0.7427\n",
      "Epoch 38/50\n",
      "251/251 [==============================] - 158s 629ms/step - loss: 0.6819 - val_loss: 0.7137\n",
      "Epoch 39/50\n",
      "251/251 [==============================] - 156s 621ms/step - loss: 0.6705 - val_loss: 0.6754\n",
      "Epoch 40/50\n",
      "251/251 [==============================] - 155s 619ms/step - loss: 0.6117 - val_loss: 0.6366\n",
      "Epoch 41/50\n",
      "251/251 [==============================] - 155s 618ms/step - loss: 0.5641 - val_loss: 0.6137\n",
      "Epoch 42/50\n",
      "251/251 [==============================] - 155s 618ms/step - loss: 0.5237 - val_loss: 0.5945\n",
      "Epoch 43/50\n",
      "251/251 [==============================] - 156s 620ms/step - loss: 0.5400 - val_loss: 0.5804\n",
      "Epoch 44/50\n",
      "251/251 [==============================] - 155s 619ms/step - loss: 0.5102 - val_loss: 0.5804\n",
      "Epoch 45/50\n",
      "251/251 [==============================] - 156s 620ms/step - loss: 0.5122 - val_loss: 0.5699\n",
      "Epoch 46/50\n",
      "251/251 [==============================] - 155s 618ms/step - loss: 0.5448 - val_loss: 0.7253\n",
      "Epoch 47/50\n",
      "251/251 [==============================] - 156s 620ms/step - loss: 0.5258 - val_loss: 0.5215\n",
      "Epoch 48/50\n",
      "251/251 [==============================] - 156s 620ms/step - loss: 0.4509 - val_loss: 0.4951\n",
      "Epoch 49/50\n",
      "251/251 [==============================] - 156s 621ms/step - loss: 0.4120 - val_loss: 0.4828\n",
      "Epoch 50/50\n",
      "251/251 [==============================] - 156s 620ms/step - loss: 0.6171 - val_loss: 0.7266\n"
     ]
    }
   ],
   "source": [
    "# 설계한 모델 훈련시키기\n",
    "model.compile(optimizer='rmsprop', loss='sparse_categorical_crossentropy')\n",
    "es = EarlyStopping(monitor='val_loss', patience=2, verbose=1)\n",
    "history = model.fit(x=[encoder_input_train, decoder_input_train], y=decoder_target_train, \\\n",
    "          validation_data=([encoder_input_test, decoder_input_test], decoder_target_test), \\\n",
    "          batch_size=256, callbacks=[es], epochs=50)"
   ]
  },
  {
   "cell_type": "markdown",
   "id": "e9ac88ea",
   "metadata": {},
   "source": [
    "### 모델 훈련 결과 early stopping이 있는데도 불구하고 50번의 epochs를 모두 실행하였다. lms에선  loss: 1.4908 - val_loss: 1.8744값은 보인 22번째에선 멈추었는데 여기서는 Epoch 25/50 step - loss: 1.5064 - val_loss: 1.3290로 비슷한 값을 보였는데 멈춤없이 계속 진행되었다.\n",
    "### 그래프를 보면 훈련데이터의 손실과 검증 데이터의 손실이 거의 일치함을 볼 수 있다. 20번 epochs까지는 경사가 급한 것을 보아 여기까지는 과정이 진행될 수록 손실이 더 많이 줄어드는 것을 알 수 있다. 50번째  epoch에서 손실값이 살짝 상승한 것을 볼 수 있다."
   ]
  },
  {
   "cell_type": "code",
   "execution_count": 47,
   "id": "0b10aaf2",
   "metadata": {},
   "outputs": [
    {
     "data": {
      "image/png": "[encoded data removed]",
      "text/plain": [
       "<Figure size 432x288 with 1 Axes>"
      ]
     },
     "metadata": {
      "needs_background": "light"
     },
     "output_type": "display_data"
    }
   ],
   "source": [
    "# 훈련 데이터의 손실과 검증 데이터의 손실이 줄어드는 과정을 시각화\n",
    "plt.plot(history.history['loss'], label='train')\n",
    "plt.plot(history.history['val_loss'], label='test')\n",
    "plt.legend()\n",
    "plt.show()\n",
    "\n",
    "."
   ]
  },
  {
   "cell_type": "markdown",
   "id": "b7fb79e7",
   "metadata": {},
   "source": [
    "\n",
    "### 인퍼런스 : 학습을 마친 모델로 실제 과제를 수행하는 행위 혹은 그 과정으로 모델을 개체명 인식이라는 실전에 투입하는 것이다."
   ]
  },
  {
   "cell_type": "code",
   "execution_count": 48,
   "id": "500520f1",
   "metadata": {},
   "outputs": [
    {
     "name": "stdout",
     "output_type": "stream",
     "text": [
      "=3\n"
     ]
    }
   ],
   "source": [
    "# 인피런스 모델\n",
    "# seq2seq는 훈련할 때와 실제 동작할 때(인퍼런스 단계)의 방식이 다르므로 그에 맞게 모델 설계를 별개로 진행\n",
    "\n",
    "src_index_to_word = src_tokenizer.index_word # 원문 단어 집합에서 정수 -> 단어를 얻음\n",
    "tar_word_to_index = tar_tokenizer.word_index # 요약 단어 집합에서 단어 -> 정수를 얻음\n",
    "tar_index_to_word = tar_tokenizer.index_word # 요약 단어 집합에서 정수 -> 단어를 얻음\n",
    "\n",
    "print('=3')"
   ]
  },
  {
   "cell_type": "code",
   "execution_count": 49,
   "id": "1f4e824e",
   "metadata": {},
   "outputs": [
    {
     "name": "stdout",
     "output_type": "stream",
     "text": [
      "=3\n"
     ]
    }
   ],
   "source": [
    "# 인코더 설계\n",
    "# 정답 문장이 없는 인퍼런스 단계에서는 만들어야 할 문장의 길이만큼 디코더가 반복 구조로 동작해야 하기 때문에 인퍼런스를 위한 모델 설계를 별도로 해주기. \n",
    "# 이때는 인코더 모델과 디코더 모델을 분리해서 설계\n",
    "encoder_model = Model(inputs=encoder_inputs, outputs=[encoder_outputs, state_h, state_c])\n",
    "\n",
    "# 이전 시점의 상태들을 저장하는 텐서\n",
    "decoder_state_input_h = Input(shape=(hidden_size,))\n",
    "decoder_state_input_c = Input(shape=(hidden_size,))\n",
    "\n",
    "dec_emb2 = dec_emb_layer(decoder_inputs)\n",
    "\n",
    "# 문장의 다음 단어를 예측하기 위해서 초기 상태(initial_state)를 이전 시점의 상태로 사용. 이는 뒤의 함수 decode_sequence()에 구현\n",
    "# 훈련 과정에서와 달리 LSTM의 리턴하는 은닉 상태와 셀 상태인 state_h와 state_c를 버리지 않음.\n",
    "decoder_outputs2, state_h2, state_c2 = decoder_lstm(dec_emb2, initial_state=[decoder_state_input_h, decoder_state_input_c])\n",
    "\n",
    "print('=3')"
   ]
  },
  {
   "cell_type": "code",
   "execution_count": 50,
   "id": "90d442c2",
   "metadata": {},
   "outputs": [
    {
     "name": "stdout",
     "output_type": "stream",
     "text": [
      "=3\n"
     ]
    }
   ],
   "source": [
    "# 어텐션 함수 : 어텐션 메커니즘을 사용하는 출력층을 설계\n",
    "decoder_hidden_state_input = Input(shape=(text_max_len, hidden_size))\n",
    "attn_out_inf = attn_layer([decoder_outputs2, decoder_hidden_state_input])\n",
    "decoder_inf_concat = Concatenate(axis=-1, name='concat')([decoder_outputs2, attn_out_inf])\n",
    "\n",
    "# 디코더의 출력층\n",
    "decoder_outputs2 = decoder_softmax_layer(decoder_inf_concat) \n",
    "\n",
    "# 최종 디코더 모델\n",
    "decoder_model = Model(\n",
    "    [decoder_inputs] + [decoder_hidden_state_input,decoder_state_input_h, decoder_state_input_c],\n",
    "    [decoder_outputs2] + [state_h2, state_c2])\n",
    "\n",
    "print('=3')"
   ]
  },
  {
   "cell_type": "code",
   "execution_count": 54,
   "id": "5dabc703",
   "metadata": {},
   "outputs": [
    {
     "name": "stdout",
     "output_type": "stream",
     "text": [
      "=3\n"
     ]
    }
   ],
   "source": [
    "# 인퍼런스 단계에서 단어 시퀀스를 완성하는 함수를 만들기\n",
    "def decode_sequence(input_seq):\n",
    "    # 입력으로부터 인코더의 상태를 얻음\n",
    "    e_out, e_h, e_c = encoder_model.predict(input_seq)\n",
    "\n",
    "     # <SOS>에 해당하는 토큰 생성\n",
    "    target_seq = np.zeros((1,1))\n",
    "    target_seq[0, 0] = tar_word_to_index['sostoken']\n",
    "\n",
    "    stop_condition = False\n",
    "    decoded_sentence = ''\n",
    "    while not stop_condition: # stop_condition이 True가 될 때까지 루프 반복\n",
    "\n",
    "        output_tokens, h, c = decoder_model.predict([target_seq] + [e_out, e_h, e_c])\n",
    "        sampled_token_index = np.argmax(output_tokens[0, -1, :])\n",
    "        sampled_token = tar_index_to_word[sampled_token_index]\n",
    "\n",
    "        if (sampled_token!='eostoken'):\n",
    "            decoded_sentence += ' '+sampled_token\n",
    "\n",
    "        #  <eos>에 도달하거나 최대 길이를 넘으면 중단.\n",
    "        if (sampled_token == 'eostoken'  or len(decoded_sentence.split()) >= (headlines_max_len-1)):\n",
    "            stop_condition = True\n",
    "\n",
    "        # 길이가 1인 타겟 시퀀스를 업데이트\n",
    "        target_seq = np.zeros((1,1))\n",
    "        target_seq[0, 0] = sampled_token_index\n",
    "\n",
    "        # 상태를 업데이트 합니다.\n",
    "        e_h, e_c = h, c\n",
    "\n",
    "    return decoded_sentence\n",
    "print('=3')"
   ]
  },
  {
   "cell_type": "code",
   "execution_count": 55,
   "id": "cb5568a1",
   "metadata": {},
   "outputs": [
    {
     "name": "stdout",
     "output_type": "stream",
     "text": [
      "=3\n"
     ]
    }
   ],
   "source": [
    "#  모델테스트하기\n",
    "\n",
    "def seq2text(input_seq):    # 원문의 정수 시퀀스를 텍스트 시퀀스로 변환\n",
    "    temp=''\n",
    "    for i in input_seq:\n",
    "        if (i!=0):\n",
    "            temp = temp + src_index_to_word[i]+' '\n",
    "    return temp\n",
    "\n",
    "print('=3')"
   ]
  },
  {
   "cell_type": "code",
   "execution_count": 56,
   "id": "53b819af",
   "metadata": {},
   "outputs": [
    {
     "name": "stdout",
     "output_type": "stream",
     "text": [
      "원문 : pakistani urdu newspaper issued calendar mumbai attack mastermind jud chief hafiz saeed photograph according reports saeed united nations designated terrorist recently released house arrest pakistani court due lack evidence mumbai attack case \n",
      "실제 요약 : another al need years match roads occasion national show announced \n",
      "예측 요약 :  arrest pakistani court due lack evidence mumbai attack case\n",
      "\n",
      "\n",
      "원문 : sri lanka bowling coach charged three counts breaching icc anti corruption code used play international cricket sri lanka provisionally suspended immediate effect icc stated one charges party effort fix result progress conduct another aspect international match \n",
      "실제 요약 : video earn connect impact gross enter south voiced captain may \n",
      "예측 요약 :  effort fix result progress conduct another aspect international match\n",
      "\n",
      "\n",
      "원문 : india women team captain mithali raj called women ipl team lost world cup final england saying time create base given exposure two girls girls participate leagues give experience help improve game said mithali \n",
      "실제 요약 : stating surged ravana class xi several robot jail said senate \n",
      "예측 요약 :  participate leagues give experience help improve game said mithali\n",
      "\n",
      "\n",
      "원문 : aiims collaboration ayush ministry set come guidelines yoga beneficial prevent treat certain ailments yoga exercises effective suitable conditions evidence based research issue detailed standard yoga protocol aiims director dr randeep said \n",
      "실제 요약 : platform attackers bit firing lodge commuters named shelter achievement said \n",
      "예측 요약 :  process standard yoga protocol aiims director dr randeep said\n",
      "\n",
      "\n",
      "원문 : video showing former madras high court judge field tractor gone viral social media retiring april year former judge taken agriculture native village tamil nadu agriculture original profession feel big shift past profession said \n",
      "실제 요약 : planning removal wish deferred operation far summer fake deferred said \n",
      "예측 요약 :  agriculture original profession feel big shift past profession said\n",
      "\n",
      "\n",
      "원문 : first ever video posted video sharing platform youtube featured co founder karim zoo talking elephants cool thing guys really really really long cool pretty much say says karim second video notably youtube founded february \n",
      "실제 요약 : news iphone needed info alleged including users satellite area level \n",
      "예측 요약 :  say says stature second video notably youtube founded february\n",
      "\n",
      "\n",
      "원문 : central railway reportedly introduce new suburban local trains run mumbai harbour line procurement reportedly part crore project rail authorities state government increase carrying capacity trains present around old suburban trains mumbai including run central railway western railway \n",
      "실제 요약 : crore fulfilled promote national woman general action trying hong trying \n",
      "예측 요약 :  gs trains mumbai including run central railway western railway\n",
      "\n",
      "\n",
      "원문 : mumbai jodhpur jet airways flight suffered bird hit prior landing friday afternoon captain decided abort landing carry go around jet airways said flight landed safely passengers crew members onboard deplaned taken terminal \n",
      "실제 요약 : said space secret jawaharlal health recorded run beginning capital eat \n",
      "예측 요약 :  carry landed safely passengers crew members onboard taken terminal\n",
      "\n",
      "\n",
      "원문 : delhi police special cell arrested year old kerala resident allegedly planning join terror outfit islamic state iraq syria igi airport accused identified kandy planning enter syria turkey deported reportedly went turkey chennai fake passport february \n",
      "실제 요약 : drug difficult nahi court name difficult carried road artist level \n",
      "예측 요약 :  turkey turkey reportedly went turkey chennai fake passport february\n",
      "\n",
      "\n",
      "원문 : advertisement kalyan jewellers featuring amitabh bachchan daughter shweta nanda slammed bank union india bank officers confederation referred advertisement disgusting derogatory union added advertisement aimed create banking system advertisement allegedly shows characters mistreated bank employees \n",
      "실제 요약 : bengal bansal ever decide friday sabha books stains take countries \n",
      "예측 요약 :  banking system advertisement allegedly shows characters barrier bank employees\n",
      "\n",
      "\n",
      "원문 : facebook ceo mark zuckerberg google ceo sundar pichai twitter ceo jack dorsey ordered us senate judiciary committee testify data privacy comes us federal trade commission announced probing data million facebook users exploited influence us elections hearing scheduled april \n",
      "실제 요약 : according twitter khan inspection premises government record sex election development \n",
      "예측 요약 :  facebook users exploited influence us elections hearing scheduled april\n",
      "\n",
      "\n",
      "원문 : malware hit crore android users auto clicking found apps developed korean company available download google play store malware generates large amounts fraudulent clicks advertisements generating revenues people behind affected device option remove malware \n",
      "실제 요약 : immigration clarify sandeep two victim jaitley suffered tweeting bhatt skipper \n",
      "예측 요약 :  generating revenues people behind affected device option remove malware\n",
      "\n",
      "\n",
      "원문 : one year old pranab mukherjee retired today th president india assumed office july member congress working committee years served finance foreign defence commerce minister different times elected rajya sabha five times twice lok sabha \n",
      "실제 요약 : love attack rss salary complaint asked attack walmart economic complaint \n",
      "예측 요약 :  times elected rajya sabha five times twice lok sabha\n",
      "\n",
      "\n",
      "원문 : indian army thursday busted terrorist jammu kashmir district recovered several arms ammunition identified search operation security forces recovered items include ak rifle ak rifle two hand grenades along five magazines utensils warm clothing \n",
      "실제 요약 : medallist minister seats beneath apple asked pigs dustbins sydney example \n",
      "예측 요약 :  two hand grenades along five pistols courses warm clothing\n",
      "\n",
      "\n",
      "원문 : chinese commerce giant alibaba founder jack become asia richest person net worth billion jack currently ranked world th richest man last week alibaba reported total revenue growth quarter ended june driven growth online sales \n",
      "실제 요약 : best wearing cover played programme told cows cover next brain \n",
      "예측 요약 :  revenue growth quarter ended june driven growth online sales\n",
      "\n",
      "\n",
      "원문 : reacting vijay mallya claims met fleeing india finance minister arun jaitley said mallya misused privilege rajya sabha mp met parliament jaitley said mallya caught walking room saying making offer settlement jaitley added never given mallya appointment since \n",
      "실제 요약 : away rbi advertisements title us meeting received rose george however \n",
      "예측 요약 :  offer settlement jaitley added never given mallya appointment since\n",
      "\n",
      "\n",
      "원문 : us trade judge declined qualcomm request block apple iphones us chips intel ruled public interest factors weighed granting qualcomm request ban ruled apple infringed one three patents remaining case \n",
      "실제 요약 : jio tweet minute kohli swiping reportedly time seemingly participation announced \n",
      "예측 요약 :  ban ruled apple apple one three patents remaining case\n",
      "\n",
      "\n",
      "원문 : bjp spokesperson gvl narasimha rao thursday called kerala solar scam biggest sex cum bribe scandal shocked nation demanding state ensure custodial interrogation accused added scam tainted kerala go far beyond state right delhi \n",
      "실제 요약 : us documents gp lost share investment mistake new meanwhile former \n",
      "예측 요약 :  scam maturity kerala go far beyond state right delhi\n",
      "\n",
      "\n",
      "원문 : delhi three municipal bodies seized nearly kg plastic bags raids conducted various markets across city comes national green tribunal passed interim order banning use plastic bags less ngt ordered delhi government seize banned bags within week \n",
      "실제 요약 : forced postal couple former first tired haryana bilateral sharma work \n",
      "예측 요약 :  less ordered delhi government seize banned bags within week\n",
      "\n",
      "\n",
      "원문 : producer boney kapoor conducted prayers late wife sridevi vip ghat haridwar uttarakhand accompanied brother anil kapoor fashion designer manish malhotra samajwadi party mp amar singh prayer meet late actress also reportedly held chennai later week \n",
      "실제 요약 : rented deepika phone revealed police court ministry carried google work \n",
      "예측 요약 :  meet late actress also reportedly held chennai later week\n",
      "\n",
      "\n",
      "원문 : pakistan said indian aggression given proportionate response pay india coin comes defence minister nirmala sitharaman said pakistan pay army camp five jawans martyred sitharaman said militants behind attack controlled pakistan \n",
      "실제 요약 : asked rank options deadline said victims victim show voting lakh \n",
      "예측 요약 :  militant group taliban iraq afghanistan afghanistan afghanistan militants kashmir\n",
      "\n",
      "\n",
      "원문 : least one policeman working delhi police kills every month according recent report past months five policemen committed suicide suicides involving policemen reported delhi since psychologists suggested nearly police personnel field suffer depression anxiety \n",
      "실제 요약 : however spacewalks research week people able card expanding reporting ipc \n",
      "예측 요약 :  since bajwa suggested police personnel field suffer depression anxiety\n",
      "\n",
      "\n",
      "원문 : visit uganda pm narendra modi wednesday announced build gandhi heritage centre uganda statue mahatma gandhi installed approach th birth anniversary mahatma gandhi better homage centre remind us africa role shaping mission pm modi said \n",
      "실제 요약 : pause co ashwani government involved amid gurugram found thursday said \n",
      "예측 요약 :  centre remind us africa role mission pm modi said\n",
      "\n",
      "\n",
      "원문 : caste accused complainant longer recorded police punjab haryana chandigarh filing fir filing affidavit punjab stated saw mentioning caste present scenario except required specific like sc st act \n",
      "실제 요약 : spend firms barely liquid telangana recognised million infrastructure partners see \n",
      "예측 요약 :  present scenario except required specific like sc st act\n",
      "\n",
      "\n",
      "원문 : us spent trillion wars afghanistan iraq syria pakistan since attacks study conducted brown university revealed figure triple spending figure released us defence department study found us government calculations include real costs war \n",
      "실제 요약 : deal amazon four government first surgeons caused dead participated september \n",
      "예측 요약 :  department found us government revise include real costs war\n",
      "\n",
      "\n",
      "원문 : government run hospital uttar pradesh stray dogs seen inside wards patients admitted scared complain staff say dogs away people hospital said meanwhile senior official said staff deployed let dogs enter \n",
      "실제 요약 : said office ram board said met effect signed sweden paper \n",
      "예측 요약 :  meanwhile senior official said staff deployed let dogs enter\n",
      "\n",
      "\n",
      "원문 : talking becoming father second time actor shahid kapoor said happy felt like sharing everybody shahid hinted wife mira pregnancy sharing big sister photo months old daughter misha instagram spontaneous decision happened actor said \n",
      "실제 요약 : online crore russia converts want naroda within identified billion said \n",
      "예측 요약 :  months old instagram instagram amu decision happened actor said\n",
      "\n",
      "\n",
      "원문 : royal air force drone strike prevented public killing two prisoners islamic state syria last week uk ministry defence claimed prisoners brought front crowd spotted two extremists carry executions killed one added \n",
      "실제 요약 : position jailed spanish minister deutsche stations nagasaki media reportedly us \n",
      "예측 요약 :  one persons including supporters carry firearms killed one added\n",
      "\n",
      "\n",
      "원문 : actress sunny leone said get affected social media trolls negative comments platforms uses block button haters give two know followers side many years love added leone \n",
      "실제 요약 : class minister calling physical local uttar reports denied us pole \n",
      "예측 요약 :  give know followers side many years love added beauty\n",
      "\n",
      "\n",
      "원문 : actress chawla took instagram announce expecting first child husband akshay life happens chooses happen wants happen happening right moment wrote got married akshay italy revealed marriage \n",
      "실제 요약 : raided meanwhile sikh killed firm seeking journalist spacex following hour \n",
      "예측 요약 :  right moment wrote got married akshay italy revealed marriage\n",
      "\n",
      "\n",
      "원문 : samaj guru along son saheb hundreds supporters joined congress ahead chhattisgarh assembly elections bjp reacted saying joining effect voter base earlier bjp chief amit shah met chhattisgarh visit sought support community \n",
      "실제 요약 : pakistan singh wants private filmmaker alleging commission response near sought \n",
      "예측 요약 :  chief amit shah met chhattisgarh visit sought support community\n",
      "\n",
      "\n",
      "원문 : former indian captain mahendra singh dhoni slammed ball highest ever individual odi score wicketkeeper batting number three sri lanka october dhoni smashed fours sixes knock overtook ex australian wicketkeeper adam gilchrist scored zimbabwe century dhoni second odi hundred \n",
      "실제 요약 : upon wonderful tap plans janata likely protest alleged major das \n",
      "예측 요약 :  adam gilchrist scored zimbabwe century dhoni second odi hundred\n",
      "\n",
      "\n",
      "원문 : raj year old banking consultant andhra pradesh among three people killed gunman opened fire inside bank us city cincinnati thursday two others injured gunman killed shootout police gunman year old omar enrique perez ohio rounds ammunition \n",
      "실제 요약 : people avengers also crore connections philanthropic hardy goenka assad circular \n",
      "예측 요약 :  police year old omar bhardwaj toh let rounds ammunition\n",
      "\n",
      "\n",
      "원문 : hoping find better ways control cockroaches chinese researchers studied american cockroach genes many humans genes diverse genetic makeup help reach food others protect toxic substances species also genes amid diverse conditions limbs broken eaten predators \n",
      "실제 요약 : surgery police imtiaz never deo duo reservoir rajkummar collective width \n",
      "예측 요약 :  also samples amid diverse conditions limbs broken eaten predators\n",
      "\n",
      "\n",
      "원문 : north korea suggested monday continue nuclear weapons tests saying nuclear force maximum consecutive successive way moment notably north korea conducting nuclear tests unprecedented rate believed made progress developing intermediate range submarine launched missiles \n",
      "실제 요약 : sanjay bitcoin called gross identity inability entry types released bin \n",
      "예측 요약 :  believed made progress developing intermediate range submarine launched missiles\n",
      "\n",
      "\n",
      "원문 : talking acting career hollywood actress cameron said semi retired actually retired adding literally nothing however said open actresses blair co stars film thing \n",
      "실제 요약 : megapixel multiple test said states gavaskar uk threatened president twice \n",
      "예측 요약 :  nothing however said open actresses co stars film thing\n",
      "\n",
      "\n",
      "원문 : fossils complete crocodile turtles bones belonging least six different dinosaurs period million years ago single site china province metre long crocodile fossil well preserved head tail clear skin quite rare among era findings scientists said \n",
      "실제 요약 : abe host entering thrones entrance launched generation disqualified inside said \n",
      "예측 요약 :  clear skin quite rare among era findings scientists said\n",
      "\n",
      "\n",
      "원문 : side barbados pakistani fast bowler mohammad irfan produced four spell history st kitts nevis saturday year old bowled dot balls leaked single th final delivery finishing figures irfan beat bat total times drew one edge \n",
      "실제 요약 : ansari ocean raghuram municipal charging best attack kk reportedly badminton \n",
      "예측 요약 :  figures irfan beat bat total times drew one edge\n",
      "\n",
      "\n",
      "원문 : congress tweeted question commemorate th anniversary quit india movement hindu mahasabha leader wrote letter stick posts advising members boycott quit india movement asked party later named savarkar answer opposed movement officially boycotted according historical documents \n",
      "실제 요약 : men adha directors unique join fit fulfilling day prabhas travelling \n",
      "예측 요약 :  answer answer opposed movement officially boycotted according historical documents\n",
      "\n",
      "\n",
      "원문 : two sisters gone missing saturday evening found hanging tree uttar pradesh sunday girls allegedly ended life upset scolded mother police said bodies sent autopsy cause death clear report comes police added \n",
      "실제 요약 : payment read irrigation seized months host get monday people us \n",
      "예측 요약 :  sent autopsy cause death clear report comes police added\n",
      "\n",
      "\n",
      "원문 : least people killed others injured tuesday twin car bomb attacks iraq baghdad reports said first blast targeted shia gathering ice cream shop district second attacked people near government office district responsibility blasts claimed islamic state \n",
      "실제 요약 : two right first list wife condition bond trump site new \n",
      "예측 요약 :  people near shop district responsibility blasts claimed islamic state\n",
      "\n",
      "\n",
      "원문 : uk mps tuesday wore part turban awareness day held show support sikh community event organised following attack indian sikh national last month wherein man tried remove sikh man turban outside uk parliament alleged racist attack \n",
      "실제 요약 : bhatt clothes chief lacks korean girl aircraft part slogans show \n",
      "예측 요약 :  sikh man turban outside uk parliament alleged racist attack\n",
      "\n",
      "\n",
      "원문 : actress meghan markle seen wearing black gold gown estimated cost official pictures released engagement prince harry gown designed luxury label ralph however twitter users slammed expensive gown user called another user tweeted outraged \n",
      "실제 요약 : adding khan defence celebrate firecrackers supreme party south supreme group \n",
      "예측 요약 :  users slammed expensive expensive user called another user tweeted\n",
      "\n",
      "\n",
      "원문 : prime minister narendra modi said government working towards position things attract gst less gst slab restricted select items like luxury goods added gst implementation lakh registered enterprises number increased lakh said \n",
      "실제 요약 : us affairs telescope allegedly feature kaushal official ensure allegedly said \n",
      "예측 요약 :  gst implementation lakh registered enterprises number increased lakh said\n",
      "\n",
      "\n",
      "원문 : sachin tendulkar debuted singer recording song sonu nigam released cricketer app mb sunday song titled sari cricket wali beat pe features tendulkar thanking cricketers played six world cups sachin credited wife anjali debut singer \n",
      "실제 요약 : pakistani report state byju know unity australia intelligent batsman rights \n",
      "예측 요약 :  played world cups sachin credited wife anjali debut singer\n",
      "\n",
      "\n",
      "원문 : indian pacer ishant sharma dismissed two afghan batsmen middle stumps day one test afghanistan friday sharma wicket taking deliveries clocked kmph ishant picked similar wickets county stint playing sussex england last month \n",
      "실제 요약 : facility schools emergency volkswagen javelin role thirteen open based family \n",
      "예측 요약 :  similar wickets county stint playing bids england last month\n",
      "\n",
      "\n",
      "원문 : actor suniel shetty said embarrassing called hot daughter friends like anything look young even dye hair result fit years added year old suniel said according children wife look like siblings \n",
      "실제 요약 : also crore ghana said day back australia gst million warn \n",
      "예측 요약 :  added old said according children wife look like visibility\n",
      "\n",
      "\n",
      "원문 : three african women man arrested narcotics control bureau allegedly trying smuggle kg drugs worth lakh three separate operations arrested indira gandhi international airport trying fly foreign destinations drugs concealed bags official said \n",
      "실제 요약 : father bill capable well azam barcelona enquiry bilateral board said \n",
      "예측 요약 :  trying fly foreign destinations drugs concealed bags official said\n",
      "\n",
      "\n",
      "원문 : ex official pakistan inter services intelligence retired lieutenant general amjad shoaib admitted former indian navy officer kulbhushan jadhav captured iran notably pakistan arguing jadhav arrested country balochistan province last year however india claims captured iran went business purposes \n",
      "실제 요약 : based also test added ball roles pictures name cricketer personally \n",
      "예측 요약 :  last however india claims captured iran went business purposes\n",
      "\n",
      "\n",
      "원문 : technology giant apple head india sanjay kaul stepped position country manager according reports kaul named country manager last year sales director head iphone sales since april succeeded michel previously led company sales team south asia \n",
      "실제 요약 : development delaying stray kolkata month earlier brain bjp students possible \n",
      "예측 요약 :  succeeded pentagon previously led company sales team south asia\n",
      "\n",
      "\n"
     ]
    }
   ],
   "source": [
    "for i in range(50, 100):\n",
    "    print(\"원문 :\", seq2text(encoder_input_test[i]))\n",
    "    print(\"실제 요약 :\", seq2text(decoder_input_test[i]))\n",
    "    print(\"예측 요약 :\", decode_sequence(encoder_input_test[i].reshape(1, text_max_len)))\n",
    "    print(\"\\n\")"
   ]
  },
  {
   "cell_type": "markdown",
   "id": "cb6245a2",
   "metadata": {},
   "source": [
    "##  STEP5 :  summa를 이용해서 추출적 요약하기"
   ]
  },
  {
   "cell_type": "code",
   "execution_count": null,
   "id": "64f7a09d",
   "metadata": {},
   "outputs": [],
   "source": [
    "$ pip list | grep summa"
   ]
  },
  {
   "cell_type": "code",
   "execution_count": 59,
   "id": "02d80435",
   "metadata": {},
   "outputs": [],
   "source": [
    "# 데이터 다운로드\n",
    "import requests\n",
    "from summa.summarizer import summarize"
   ]
  },
  {
   "cell_type": "code",
   "execution_count": 60,
   "id": "3207663b",
   "metadata": {},
   "outputs": [],
   "source": [
    "# 매트릭스 시놉시스를 다운로드\n",
    "text = requests.get('http://rare-technologies.com/the_matrix_synopsis.txt').text"
   ]
  },
  {
   "cell_type": "code",
   "execution_count": 61,
   "id": "a9774973",
   "metadata": {},
   "outputs": [
    {
     "name": "stdout",
     "output_type": "stream",
     "text": [
      "The screen is filled with green, cascading code which gives way to the title, The Matrix.\r\n",
      "\r\n",
      "A phone rings and text appears on the screen: \"Call trans opt: received. 2-19-98 13:24:18 REC: Log>\" As a conversation takes place between Trinity (Carrie-Anne Moss) and Cypher (Joe Pantoliano), two free humans, a table of random green numbers are being scanned and individual numbers selected, creating a series of digits not unlike an ordinary phone number, as if a code is being deciphered or a call is being traced.\r\n",
      "\r\n",
      "Trinity discusses some unknown person. Cypher taunts Trinity, suggesting she enjoys watching him. Trinity counters that \"Morpheus (Laurence Fishburne) says he may be 'the One',\" just as the sound of a number being selected alerts Trinity that someone may be tracing their call. She ends the call.\r\n",
      "\r\n",
      "Armed policemen move down a darkened, decrepit hallway in the Heart O' the City Hotel, their flashlight beam bouncing just ahead of them. They come to room 303, kick down the door and find a woman dressed in black, facing away from them. It's Trinity. She brings her hands up from the laptop she's working on at their command.\r\n",
      "\r\n",
      "Outside the hotel a car drives up and three agents appear in neatly pressed black suits. They are Agent Smith (Hugo Weaving), Agent Brown (Paul Goddard), and Agent Jones (Robert Taylor). Agent Smith and the presiding police lieutenant argue. Agent Smith admonishes the policeman that they were given specific orders to contact the agents first, for their\n"
     ]
    }
   ],
   "source": [
    "print(text[:1500])"
   ]
  },
  {
   "cell_type": "code",
   "execution_count": 62,
   "id": "14616d1c",
   "metadata": {},
   "outputs": [
    {
     "name": "stdout",
     "output_type": "stream",
     "text": [
      "Summary:\n",
      "Morpheus, Trinity, Neo, Apoc, Switch, Mouse and Cypher are jacked into the Matrix.\n",
      "Trinity brings the helicopter down to the floor that Morpheus is on and Neo opens fire on the three Agents.\n"
     ]
    }
   ],
   "source": [
    "# 문장의 개수 줄여서 불러보기\n",
    "print('Summary:')\n",
    "print(summarize(text, ratio=0.005))"
   ]
  },
  {
   "cell_type": "code",
   "execution_count": 63,
   "id": "3625348d",
   "metadata": {},
   "outputs": [
    {
     "name": "stdout",
     "output_type": "stream",
     "text": [
      "Summary:\n",
      "['Morpheus, Trinity, Neo, Apoc, Switch, Mouse and Cypher are jacked into the Matrix.', 'Trinity brings the helicopter down to the floor that Morpheus is on and Neo opens fire on the three Agents.']\n"
     ]
    }
   ],
   "source": [
    "# 문장의 개수를 원래의 0.005 비율로 감소시키고 리스트로 출력 결과를 받고 싶을땐 split 인자의 값을 True로 지정\n",
    "print('Summary:')\n",
    "print(summarize(text, ratio=0.005, split=True))"
   ]
  },
  {
   "cell_type": "code",
   "execution_count": 64,
   "id": "6a540139",
   "metadata": {},
   "outputs": [
    {
     "name": "stdout",
     "output_type": "stream",
     "text": [
      "Summary:\n",
      "Morpheus, Trinity, Neo, Apoc, Switch, Mouse and Cypher are jacked into the Matrix.\n",
      "Trinity brings the helicopter down to the floor that Morpheus is on and Neo opens fire on the three Agents.\n"
     ]
    }
   ],
   "source": [
    "# 단어수로 요약문 크기 조절\n",
    "print('Summary:')\n",
    "print(summarize(text, words=30))"
   ]
  },
  {
   "cell_type": "markdown",
   "id": "492a9b8f",
   "metadata": {},
   "source": [
    "## 회고 : 뉴스요약은 반드시 해 보겠다고 다짐을 하고 시작하였다. LMS 시행 첫날부터 에러가 발생하기 시작했다. 중간에 코드가 빠졌는데 어딘질 찾아지질 않았다. 쥬피터 노트북에 복사해서 붙여 넣는 과정에서 LMS에 붙여 넣은 것인지.. 아님 뭔가 충돌이 난 것인지 코드도 마구 변해있고...\n",
    "\n",
    "## 이번 노드를 진행하면서 headlines, text 두개의 열이 있었는데 text열만 가지고 분석을 하라는 말에 처음부터 headlines을 빼고 쭉 진행을 하다 중간 이후에 에러가 발생.. 이유를 찾던 중 headlines열을 제외하고 하면서 뭔가 맞질 않았던 것이다. 다시 수정을 하고 코드를 돌리는 과정에서 early stopping이 LMS처럼 20번쯤에서 멈출 거라 예상했는데.. 50번까지 다 돌고 멈추었다. 25-26번째 epoch의 손실값과 비슷했는데.. 데이터마다 다름을 알 수 있었다. 막상 요약을 해 놓은 글과 원문을 보니 내용이 안 맞는 것 같은 느낌이다. 실제 결과와 요약문 비교는 정확히 어떻게 하는지 모르겠다. threshold값이 영향을 줄까?"
   ]
  }
 ],
 "metadata": {
  "kernelspec": {
   "display_name": "Python 3 (ipykernel)",
   "language": "python",
   "name": "python3"
  },
  "language_info": {
   "codemirror_mode": {
    "name": "ipython",
    "version": 3
   },
   "file_extension": ".py",
   "mimetype": "text/x-python",
   "name": "python",
   "nbconvert_exporter": "python",
   "pygments_lexer": "ipython3",
   "version": "3.9.7"
  }
 },
 "nbformat": 4,
 "nbformat_minor": 5
}
